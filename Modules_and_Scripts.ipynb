{
  "nbformat": 4,
  "nbformat_minor": 0,
  "metadata": {
    "colab": {
      "provenance": [],
      "authorship_tag": "ABX9TyOg3HrZJX4BTR1+4IRRtdfr",
      "include_colab_link": true
    },
    "kernelspec": {
      "name": "python3",
      "display_name": "Python 3"
    },
    "language_info": {
      "name": "python"
    }
  },
  "cells": [
    {
      "cell_type": "markdown",
      "metadata": {
        "id": "view-in-github",
        "colab_type": "text"
      },
      "source": [
        "<a href=\"https://colab.research.google.com/github/SachinScaler/Jan25_Python/blob/main/Modules_and_Scripts.ipynb\" target=\"_parent\"><img src=\"https://colab.research.google.com/assets/colab-badge.svg\" alt=\"Open In Colab\"/></a>"
      ]
    },
    {
      "cell_type": "code",
      "execution_count": 1,
      "metadata": {
        "id": "L8aPIlYZmT52"
      },
      "outputs": [],
      "source": [
        "from custom_module import calc"
      ]
    },
    {
      "cell_type": "code",
      "source": [
        "c1 = calc.Calculator(10, 30)\n",
        "c1.add()"
      ],
      "metadata": {
        "colab": {
          "base_uri": "https://localhost:8080/"
        },
        "id": "JwbFmcC7n8Ld",
        "outputId": "07dbdefc-4f8a-46c4-d820-ec72b03cef2c"
      },
      "execution_count": 2,
      "outputs": [
        {
          "output_type": "execute_result",
          "data": {
            "text/plain": [
              "40"
            ]
          },
          "metadata": {},
          "execution_count": 2
        }
      ]
    },
    {
      "cell_type": "code",
      "source": [
        "# class Calculator:\n",
        "#     def __init__(self, x, y):\n",
        "#         self.x = x\n",
        "#         self.y = y\n",
        "\n",
        "#     def add(self):\n",
        "#         return self.x + self.y\n",
        "# Calculator(10,30).add()"
      ],
      "metadata": {
        "id": "koZywDCaoHWY"
      },
      "execution_count": 1,
      "outputs": []
    },
    {
      "cell_type": "code",
      "source": [
        "from custom_module import calc\n",
        "\n",
        "c1 = calc.Calculator(10, 30)\n",
        "c1.add()"
      ],
      "metadata": {
        "colab": {
          "base_uri": "https://localhost:8080/"
        },
        "id": "gY9EiSGJoP23",
        "outputId": "4e5e5b76-17f6-4e62-a96f-bc71f174552c"
      },
      "execution_count": 2,
      "outputs": [
        {
          "output_type": "execute_result",
          "data": {
            "text/plain": [
              "40"
            ]
          },
          "metadata": {},
          "execution_count": 2
        }
      ]
    },
    {
      "cell_type": "code",
      "source": [
        "from custom_module import calc\n",
        "\n",
        "# script.class\n",
        "c1 = calc.Calculator(10, 30)\n",
        "c1.subtract()"
      ],
      "metadata": {
        "colab": {
          "base_uri": "https://localhost:8080/"
        },
        "id": "h6dTTPVGofdJ",
        "outputId": "e64de0b9-5a67-450b-9180-6f050a67ad0c"
      },
      "execution_count": 3,
      "outputs": [
        {
          "output_type": "execute_result",
          "data": {
            "text/plain": [
              "-20"
            ]
          },
          "metadata": {},
          "execution_count": 3
        }
      ]
    },
    {
      "cell_type": "code",
      "source": [
        "from custom_module import calc # script\n",
        "\n",
        "from custom_module.calc import Calculator # class\n",
        "\n",
        "c1 = Calculator(10,30)\n",
        "c1.add()"
      ],
      "metadata": {
        "colab": {
          "base_uri": "https://localhost:8080/"
        },
        "id": "ivF1hmHbojrX",
        "outputId": "579d8cfb-1f7e-4982-994c-c8cdc7951fdc"
      },
      "execution_count": 4,
      "outputs": [
        {
          "output_type": "execute_result",
          "data": {
            "text/plain": [
              "40"
            ]
          },
          "metadata": {},
          "execution_count": 4
        }
      ]
    },
    {
      "cell_type": "code",
      "source": [
        "import my_script"
      ],
      "metadata": {
        "colab": {
          "base_uri": "https://localhost:8080/"
        },
        "id": "Rq9HdGnKpIz_",
        "outputId": "0588074c-f6f5-4364-c446-4677102bc218"
      },
      "execution_count": 1,
      "outputs": [
        {
          "output_type": "stream",
          "name": "stdout",
          "text": [
            "my_script\n",
            "hello World\n"
          ]
        }
      ]
    },
    {
      "cell_type": "code",
      "source": [
        "from my_script import func # function\n",
        "\n",
        "func(\"Sachin\")"
      ],
      "metadata": {
        "colab": {
          "base_uri": "https://localhost:8080/"
        },
        "id": "4pHXQSMnppD-",
        "outputId": "5012dde6-0ce7-4e51-edfd-231a207ee5bb"
      },
      "execution_count": 2,
      "outputs": [
        {
          "output_type": "stream",
          "name": "stdout",
          "text": [
            "hello Sachin\n"
          ]
        }
      ]
    },
    {
      "cell_type": "code",
      "source": [
        "import my_script # script\n",
        "\n",
        "my_script.func(\"Sachin\")"
      ],
      "metadata": {
        "colab": {
          "base_uri": "https://localhost:8080/"
        },
        "id": "SNHc9IfyqAJK",
        "outputId": "2da3a90f-8a4f-4dd8-a6b2-1c3925054888"
      },
      "execution_count": 3,
      "outputs": [
        {
          "output_type": "stream",
          "name": "stdout",
          "text": [
            "hello Sachin\n"
          ]
        }
      ]
    },
    {
      "cell_type": "code",
      "source": [],
      "metadata": {
        "id": "hrntNKEvqJjs"
      },
      "execution_count": 8,
      "outputs": []
    },
    {
      "cell_type": "code",
      "source": [
        "## execute my_script.py\n",
        "\n",
        "!python3 my_script.py"
      ],
      "metadata": {
        "colab": {
          "base_uri": "https://localhost:8080/"
        },
        "id": "hB1eWdGkqLJy",
        "outputId": "9e88cc2a-7dcb-4d2a-baf2-a9f22337d91d"
      },
      "execution_count": 3,
      "outputs": [
        {
          "output_type": "stream",
          "name": "stdout",
          "text": [
            "hello World\n"
          ]
        }
      ]
    },
    {
      "cell_type": "code",
      "source": [
        "from my_script import pi\n",
        "\n",
        "print(pi)"
      ],
      "metadata": {
        "colab": {
          "base_uri": "https://localhost:8080/"
        },
        "id": "5KS1Lllurolb",
        "outputId": "171e0b8b-6484-48d0-b3bc-245e0c1fb6e9"
      },
      "execution_count": 4,
      "outputs": [
        {
          "output_type": "stream",
          "name": "stdout",
          "text": [
            "3.14\n"
          ]
        }
      ]
    },
    {
      "cell_type": "code",
      "source": [
        "pi = 100\n",
        "print(pi)"
      ],
      "metadata": {
        "colab": {
          "base_uri": "https://localhost:8080/"
        },
        "id": "wd7KJ9nxswZ0",
        "outputId": "f56a6cd2-0ec4-4dc0-ce78-87ccfe1ca73f"
      },
      "execution_count": 3,
      "outputs": [
        {
          "output_type": "stream",
          "name": "stdout",
          "text": [
            "100\n"
          ]
        }
      ]
    },
    {
      "cell_type": "markdown",
      "source": [],
      "metadata": {
        "id": "2cXpgIIWtNgH"
      }
    },
    {
      "cell_type": "code",
      "source": [
        "from my_script import *\n",
        "from another_script import *"
      ],
      "metadata": {
        "id": "tKg4e5obs46i"
      },
      "execution_count": 6,
      "outputs": []
    },
    {
      "cell_type": "code",
      "source": [
        "print(pi)"
      ],
      "metadata": {
        "colab": {
          "base_uri": "https://localhost:8080/"
        },
        "id": "mDiShM1ltsuB",
        "outputId": "c642a915-6e14-43e2-c3df-53a36194f7d5"
      },
      "execution_count": 7,
      "outputs": [
        {
          "output_type": "stream",
          "name": "stdout",
          "text": [
            "3.14\n"
          ]
        }
      ]
    },
    {
      "cell_type": "code",
      "source": [
        "# partials\n",
        "from functools import partial"
      ],
      "metadata": {
        "id": "wUgk4QqxtQIN"
      },
      "execution_count": 9,
      "outputs": []
    },
    {
      "cell_type": "code",
      "source": [
        "def add(x, y, z = 10):\n",
        "    print(x + y + z)\n",
        "\n",
        "add(10, 20)"
      ],
      "metadata": {
        "colab": {
          "base_uri": "https://localhost:8080/"
        },
        "id": "dcyozberuqAG",
        "outputId": "a0b7eaf2-7e9c-4af3-afa6-9ea3824874cb"
      },
      "execution_count": 11,
      "outputs": [
        {
          "output_type": "stream",
          "name": "stdout",
          "text": [
            "40\n"
          ]
        }
      ]
    },
    {
      "cell_type": "code",
      "source": [
        "add(10, 20, 30)"
      ],
      "metadata": {
        "colab": {
          "base_uri": "https://localhost:8080/"
        },
        "id": "vUf5jdfHu1Ae",
        "outputId": "d6d253c6-6e60-4c0b-d93e-f42bd718eaeb"
      },
      "execution_count": 12,
      "outputs": [
        {
          "output_type": "stream",
          "name": "stdout",
          "text": [
            "60\n"
          ]
        }
      ]
    },
    {
      "cell_type": "code",
      "source": [
        "def add_ver2(x, y, z = 30):\n",
        "    print(x + y + z)\n",
        "add(10, 20)"
      ],
      "metadata": {
        "colab": {
          "base_uri": "https://localhost:8080/"
        },
        "id": "cnmprKLyu__h",
        "outputId": "df72a63b-1bf4-43cd-9e4c-85fa9606e829"
      },
      "execution_count": 13,
      "outputs": [
        {
          "output_type": "stream",
          "name": "stdout",
          "text": [
            "40\n"
          ]
        }
      ]
    },
    {
      "cell_type": "code",
      "source": [
        "def add_ver2(x, y, z):\n",
        "    print(x + y + z)\n",
        "\n",
        "add(10, 20, 30)"
      ],
      "metadata": {
        "colab": {
          "base_uri": "https://localhost:8080/"
        },
        "id": "arozEZaJvE9e",
        "outputId": "21527a07-14cc-4111-e3c1-4ab1977f8de4"
      },
      "execution_count": 14,
      "outputs": [
        {
          "output_type": "stream",
          "name": "stdout",
          "text": [
            "60\n"
          ]
        }
      ]
    },
    {
      "cell_type": "code",
      "source": [
        "from functools import partial\n",
        "\n",
        "add_ver3 = partial(add_ver2, z=30)\n",
        "add_ver3(10, 20)"
      ],
      "metadata": {
        "colab": {
          "base_uri": "https://localhost:8080/"
        },
        "id": "fxhJphshvPgs",
        "outputId": "5fd81a8d-c977-4dcb-8bf7-ad1f682fcbef"
      },
      "execution_count": 15,
      "outputs": [
        {
          "output_type": "stream",
          "name": "stdout",
          "text": [
            "60\n"
          ]
        }
      ]
    },
    {
      "cell_type": "code",
      "source": [
        "print(add_ver3)"
      ],
      "metadata": {
        "colab": {
          "base_uri": "https://localhost:8080/"
        },
        "id": "LL5OcYAyvlAT",
        "outputId": "e90c33f3-282f-44df-9e00-df901449ce3e"
      },
      "execution_count": 16,
      "outputs": [
        {
          "output_type": "stream",
          "name": "stdout",
          "text": [
            "functools.partial(<function add_ver2 at 0x7cf7910696c0>, z=30)\n"
          ]
        }
      ]
    },
    {
      "cell_type": "code",
      "source": [
        "add_ver4 = partial(add_ver2, 100)\n",
        "add_ver4(10, 20)"
      ],
      "metadata": {
        "colab": {
          "base_uri": "https://localhost:8080/"
        },
        "id": "Ant3nzBGvnul",
        "outputId": "afd15b04-a7d2-460f-9ce1-8877570b2d0c"
      },
      "execution_count": 20,
      "outputs": [
        {
          "output_type": "stream",
          "name": "stdout",
          "text": [
            "130\n"
          ]
        }
      ]
    },
    {
      "cell_type": "markdown",
      "source": [
        "- a class using which we can define what happens during creation of another class"
      ],
      "metadata": {
        "id": "DZ4YBOVjwE0J"
      }
    },
    {
      "cell_type": "code",
      "source": [
        "# import abstract_class\n",
        "from met"
      ],
      "metadata": {
        "id": "n_C9VBQGvtBv"
      },
      "execution_count": null,
      "outputs": []
    }
  ]
}