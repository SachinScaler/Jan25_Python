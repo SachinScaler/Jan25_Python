{
  "nbformat": 4,
  "nbformat_minor": 0,
  "metadata": {
    "colab": {
      "provenance": [],
      "authorship_tag": "ABX9TyOWvQ7lH91CSdX4J3oGuq6T",
      "include_colab_link": true
    },
    "kernelspec": {
      "name": "python3",
      "display_name": "Python 3"
    },
    "language_info": {
      "name": "python"
    }
  },
  "cells": [
    {
      "cell_type": "markdown",
      "metadata": {
        "id": "view-in-github",
        "colab_type": "text"
      },
      "source": [
        "<a href=\"https://colab.research.google.com/github/SachinScaler/Jan25_Python/blob/main/Decorator_Example.ipynb\" target=\"_parent\"><img src=\"https://colab.research.google.com/assets/colab-badge.svg\" alt=\"Open In Colab\"/></a>"
      ]
    },
    {
      "cell_type": "markdown",
      "source": [
        "- Filter\n",
        "- Reduce\n",
        "- Zip\n",
        "- Higher Order Functions\n",
        "- Decorators\n",
        "- `*args` and `**kwargs`"
      ],
      "metadata": {
        "id": "Hk2-DTb1BttE"
      }
    },
    {
      "cell_type": "code",
      "execution_count": null,
      "metadata": {
        "id": "rHC2IJizBmy9"
      },
      "outputs": [],
      "source": [
        "import time\n",
        "def speed_test(func):\n",
        "    def wrapper(num):\n",
        "        s = time.time()\n",
        "        out = func(num)\n",
        "        e = time.time()\n",
        "        print(\"Time Taken: \", e-s)\n",
        "        return out\n",
        "    return wrapper\n",
        "\n",
        "def comprehension():\n",
        "    return [i**2 for i in range(1,1000)]\n",
        "\n",
        "\n",
        "def mapper():\n",
        "    return list(map(lambda x :x**2, range(1,1000)))\n",
        "\n",
        "#comprehension()"
      ]
    },
    {
      "cell_type": "code",
      "source": [
        "@speed_test\n",
        "def mapper(num):\n",
        "    return list(map(lambda x :x**2, range(1,num)))\n",
        "\n",
        "num = 100000\n",
        "output = mapper(num)"
      ],
      "metadata": {
        "colab": {
          "base_uri": "https://localhost:8080/"
        },
        "id": "MR0xfLakC7cE",
        "outputId": "45c7690b-c614-489f-d745-c9b129d8a26e"
      },
      "execution_count": null,
      "outputs": [
        {
          "output_type": "stream",
          "name": "stdout",
          "text": [
            "Time Taken:  0.03754377365112305\n"
          ]
        }
      ]
    },
    {
      "cell_type": "code",
      "source": [
        "@speed_test\n",
        "def comprehension(num):\n",
        "    return [i**2 for i in range(1,num)]\n",
        "\n",
        "\n",
        "out = comprehension(num)"
      ],
      "metadata": {
        "colab": {
          "base_uri": "https://localhost:8080/"
        },
        "id": "p_ybbRkoCyg2",
        "outputId": "41ac88eb-7716-455b-d321-a9347bea04f2"
      },
      "execution_count": null,
      "outputs": [
        {
          "output_type": "stream",
          "name": "stdout",
          "text": [
            "Time Taken:  0.03565359115600586\n"
          ]
        }
      ]
    },
    {
      "cell_type": "code",
      "source": [
        "@speed_test\n",
        "def traditonal(num):\n",
        "    list1 = []\n",
        "    for i in range(1,num):\n",
        "        list1.append(i**2)\n",
        "    return list1\n",
        "\n",
        "out = traditonal(num)"
      ],
      "metadata": {
        "colab": {
          "base_uri": "https://localhost:8080/"
        },
        "id": "DAyhxOBYDaZf",
        "outputId": "08a91ce2-0040-42da-b0b6-b0a0178bbd51"
      },
      "execution_count": null,
      "outputs": [
        {
          "output_type": "stream",
          "name": "stdout",
          "text": [
            "Time Taken:  0.042114973068237305\n"
          ]
        }
      ]
    },
    {
      "cell_type": "code",
      "source": [
        "import numpy as np\n",
        "@speed_test\n",
        "def vectorized(num):\n",
        "    return np.array(range(1,num))**2\n",
        "\n",
        "out = vectorized(num)"
      ],
      "metadata": {
        "colab": {
          "base_uri": "https://localhost:8080/"
        },
        "id": "CwSrctmVD9DP",
        "outputId": "ad66aa16-b6d7-4929-e0fe-a896db20c9e7"
      },
      "execution_count": null,
      "outputs": [
        {
          "output_type": "stream",
          "name": "stdout",
          "text": [
            "Time Taken:  0.024050474166870117\n"
          ]
        }
      ]
    },
    {
      "cell_type": "code",
      "source": [],
      "metadata": {
        "id": "WqwwkrnPHM3z"
      },
      "execution_count": null,
      "outputs": []
    },
    {
      "cell_type": "code",
      "source": [],
      "metadata": {
        "id": "zRDb09LkLAjQ"
      },
      "execution_count": null,
      "outputs": []
    }
  ]
}