{
  "nbformat": 4,
  "nbformat_minor": 0,
  "metadata": {
    "colab": {
      "provenance": [],
      "authorship_tag": "ABX9TyOWnq47n4TrYUjGERLy7eFI",
      "include_colab_link": true
    },
    "kernelspec": {
      "name": "python3",
      "display_name": "Python 3"
    },
    "language_info": {
      "name": "python"
    }
  },
  "cells": [
    {
      "cell_type": "markdown",
      "metadata": {
        "id": "view-in-github",
        "colab_type": "text"
      },
      "source": [
        "<a href=\"https://colab.research.google.com/github/SachinScaler/Jan25_Python/blob/main/Functional_Programming_1%7CLecture_Lambda_Functions_and_HOF.ipynb\" target=\"_parent\"><img src=\"https://colab.research.google.com/assets/colab-badge.svg\" alt=\"Open In Colab\"/></a>"
      ]
    },
    {
      "cell_type": "markdown",
      "source": [
        "Procedural"
      ],
      "metadata": {
        "id": "nPD039tV0s00"
      }
    },
    {
      "cell_type": "markdown",
      "source": [
        "Task:Given a list of numbers, I have to calculate thier squares and store them"
      ],
      "metadata": {
        "id": "AsM_En4Z5R6u"
      }
    },
    {
      "cell_type": "code",
      "execution_count": 9,
      "metadata": {
        "id": "fbH6QKmCzysY",
        "colab": {
          "base_uri": "https://localhost:8080/"
        },
        "outputId": "80c126cf-add2-4b6d-d00a-2e1bee724b0e"
      },
      "outputs": [
        {
          "output_type": "stream",
          "name": "stdout",
          "text": [
            "[1, 2, 3, 4, 1, 4, 9, 16]\n"
          ]
        }
      ],
      "source": [
        "num_list = [1, 2, 3, 4]\n",
        "\n",
        "def func_ver1(num_list):\n",
        "    for i in range(len(num_list)):\n",
        "        num_list.append(num_list[i]**2)\n",
        "\n",
        "func_ver1(num_list)\n",
        "print(num_list)"
      ]
    },
    {
      "cell_type": "code",
      "source": [
        "def func_ver2(num_list):\n",
        "    num_list = [1, 2, 3, 4]\n",
        "    for i in range(len(num_list)):\n",
        "        num_list[i] = num_list[i]**2\n",
        "\n",
        "num_list = [1, 2, 3, 4]\n",
        "func_ver2(num_list)\n",
        "print(num_list)"
      ],
      "metadata": {
        "colab": {
          "base_uri": "https://localhost:8080/"
        },
        "id": "Y59qLic75oic",
        "outputId": "5a27b90f-516d-4649-ac6a-f2274c1723aa"
      },
      "execution_count": 13,
      "outputs": [
        {
          "output_type": "stream",
          "name": "stdout",
          "text": [
            "[1, 2, 3, 4]\n"
          ]
        }
      ]
    },
    {
      "cell_type": "markdown",
      "source": [
        "Functional"
      ],
      "metadata": {
        "id": "jSi8mYf90zaj"
      }
    },
    {
      "cell_type": "markdown",
      "source": [
        "Lamdba Functions"
      ],
      "metadata": {
        "id": "x07tVJD5-GdB"
      }
    },
    {
      "cell_type": "code",
      "source": [
        "(lambda x: x ** 2)(20)"
      ],
      "metadata": {
        "id": "C8Irrtkp0y48",
        "colab": {
          "base_uri": "https://localhost:8080/"
        },
        "outputId": "346bdf85-cdee-4908-c170-7aedce9248f9"
      },
      "execution_count": 18,
      "outputs": [
        {
          "output_type": "execute_result",
          "data": {
            "text/plain": [
              "400"
            ]
          },
          "metadata": {},
          "execution_count": 18
        }
      ]
    },
    {
      "cell_type": "code",
      "source": [
        "# func(inputs)"
      ],
      "metadata": {
        "id": "AARkMnLP0tLu"
      },
      "execution_count": 16,
      "outputs": []
    },
    {
      "cell_type": "code",
      "source": [
        "sq_ver1 = (lambda x: x ** 2)"
      ],
      "metadata": {
        "id": "8vzlt8e9z75O"
      },
      "execution_count": 19,
      "outputs": []
    },
    {
      "cell_type": "code",
      "source": [
        "sq_ver1(2)"
      ],
      "metadata": {
        "id": "RtfihfnOz725",
        "colab": {
          "base_uri": "https://localhost:8080/"
        },
        "outputId": "955e6b98-cfa9-4e67-cc88-43ffcfca20f1"
      },
      "execution_count": 20,
      "outputs": [
        {
          "output_type": "execute_result",
          "data": {
            "text/plain": [
              "4"
            ]
          },
          "metadata": {},
          "execution_count": 20
        }
      ]
    },
    {
      "cell_type": "code",
      "source": [
        "sq_ver1(10)"
      ],
      "metadata": {
        "id": "L3pW_d5wz70U",
        "colab": {
          "base_uri": "https://localhost:8080/"
        },
        "outputId": "2215c0e4-9932-4795-960d-cd71e1efccf2"
      },
      "execution_count": 21,
      "outputs": [
        {
          "output_type": "execute_result",
          "data": {
            "text/plain": [
              "100"
            ]
          },
          "metadata": {},
          "execution_count": 21
        }
      ]
    },
    {
      "cell_type": "code",
      "source": [
        "(lambda x, y: x+y)(10, 20)"
      ],
      "metadata": {
        "colab": {
          "base_uri": "https://localhost:8080/"
        },
        "id": "ogqz0BlH-7wl",
        "outputId": "20a22ceb-e203-409e-fa19-1afc7c21330a"
      },
      "execution_count": 22,
      "outputs": [
        {
          "output_type": "execute_result",
          "data": {
            "text/plain": [
              "30"
            ]
          },
          "metadata": {},
          "execution_count": 22
        }
      ]
    },
    {
      "cell_type": "code",
      "source": [
        "a, b = (lambda x, y = 10: (x+y, x-y))(10, 20)\n",
        "print(a)\n",
        "print(b)"
      ],
      "metadata": {
        "colab": {
          "base_uri": "https://localhost:8080/"
        },
        "id": "M7u1V1Ju-7tz",
        "outputId": "c397c4b8-696c-4d83-e1b8-b2890d482b4d"
      },
      "execution_count": 30,
      "outputs": [
        {
          "output_type": "stream",
          "name": "stdout",
          "text": [
            "30\n",
            "-10\n"
          ]
        }
      ]
    },
    {
      "cell_type": "code",
      "source": [
        "a, b = (lambda x, y = 10: (x+y, x-y))(10)\n",
        "print(a)\n",
        "print(b)"
      ],
      "metadata": {
        "id": "wc-1CFhi_ss4"
      },
      "execution_count": null,
      "outputs": []
    },
    {
      "cell_type": "code",
      "source": [
        "(lambda x: x ** 2 if x > 10 else x ** 3)(11)"
      ],
      "metadata": {
        "colab": {
          "base_uri": "https://localhost:8080/"
        },
        "id": "rN0d9qVZ-7rm",
        "outputId": "0eef5aea-1a37-4529-9243-234069a52f54"
      },
      "execution_count": 33,
      "outputs": [
        {
          "output_type": "execute_result",
          "data": {
            "text/plain": [
              "121"
            ]
          },
          "metadata": {},
          "execution_count": 33
        }
      ]
    },
    {
      "cell_type": "code",
      "source": [
        "(lambda x: x ** 2 if x > 10 else x ** 3)(5)"
      ],
      "metadata": {
        "colab": {
          "base_uri": "https://localhost:8080/"
        },
        "id": "xlTeEXaf-7pC",
        "outputId": "5111762b-cfac-48c1-8fff-5fe974f2a0d6"
      },
      "execution_count": 34,
      "outputs": [
        {
          "output_type": "execute_result",
          "data": {
            "text/plain": [
              "125"
            ]
          },
          "metadata": {},
          "execution_count": 34
        }
      ]
    },
    {
      "cell_type": "code",
      "source": [
        "(lambda x: x if x > 5 else 0)(6)"
      ],
      "metadata": {
        "colab": {
          "base_uri": "https://localhost:8080/"
        },
        "id": "smoDzJdu-7mZ",
        "outputId": "1e59e041-5dc9-43d6-f463-bbbbbf2703d6"
      },
      "execution_count": 31,
      "outputs": [
        {
          "output_type": "execute_result",
          "data": {
            "text/plain": [
              "6"
            ]
          },
          "metadata": {},
          "execution_count": 31
        }
      ]
    },
    {
      "cell_type": "code",
      "source": [
        "(lambda x: x if x > 5 else 0)(4)"
      ],
      "metadata": {
        "colab": {
          "base_uri": "https://localhost:8080/"
        },
        "id": "5DCBQSBs_z0C",
        "outputId": "aba64081-7a85-4d72-8571-1108f1ccf759"
      },
      "execution_count": 32,
      "outputs": [
        {
          "output_type": "execute_result",
          "data": {
            "text/plain": [
              "0"
            ]
          },
          "metadata": {},
          "execution_count": 32
        }
      ]
    },
    {
      "cell_type": "code",
      "source": [],
      "metadata": {
        "id": "PC5ykkai-7kC"
      },
      "execution_count": null,
      "outputs": []
    },
    {
      "cell_type": "markdown",
      "source": [
        "### Use-case"
      ],
      "metadata": {
        "id": "6Dk45pv1AUgO"
      }
    },
    {
      "cell_type": "code",
      "source": [
        "students = [\n",
        "    {\"name\": \"A\", \"marks\": 50},\n",
        "    {\"name\": \"B\", \"marks\": 100},\n",
        "    {\"name\": \"C\", \"marks\": 40},\n",
        "    {\"name\": \"D\", \"marks\": 70},\n",
        "    {\"name\": \"E\", \"marks\": 60},\n",
        "]"
      ],
      "metadata": {
        "id": "BDXe_YgL-7g8"
      },
      "execution_count": 35,
      "outputs": []
    },
    {
      "cell_type": "code",
      "source": [
        "students.sort()"
      ],
      "metadata": {
        "colab": {
          "base_uri": "https://localhost:8080/",
          "height": 137
        },
        "id": "py5zl0Z_Ajrl",
        "outputId": "15636f9d-f81f-40c7-d683-51b4add6baad"
      },
      "execution_count": 37,
      "outputs": [
        {
          "output_type": "error",
          "ename": "TypeError",
          "evalue": "'<' not supported between instances of 'dict' and 'dict'",
          "traceback": [
            "\u001b[0;31m---------------------------------------------------------------------------\u001b[0m",
            "\u001b[0;31mTypeError\u001b[0m                                 Traceback (most recent call last)",
            "\u001b[0;32m<ipython-input-37-313fb8c291fb>\u001b[0m in \u001b[0;36m<cell line: 0>\u001b[0;34m()\u001b[0m\n\u001b[0;32m----> 1\u001b[0;31m \u001b[0mstudents\u001b[0m\u001b[0;34m.\u001b[0m\u001b[0msort\u001b[0m\u001b[0;34m(\u001b[0m\u001b[0;34m)\u001b[0m\u001b[0;34m\u001b[0m\u001b[0;34m\u001b[0m\u001b[0m\n\u001b[0m",
            "\u001b[0;31mTypeError\u001b[0m: '<' not supported between instances of 'dict' and 'dict'"
          ]
        }
      ]
    },
    {
      "cell_type": "code",
      "source": [
        "sorted(students)"
      ],
      "metadata": {
        "id": "0CWxfb1zz7x9",
        "colab": {
          "base_uri": "https://localhost:8080/",
          "height": 137
        },
        "outputId": "b6cc9f9e-70d6-46dc-dead-2d28267b6d70"
      },
      "execution_count": 38,
      "outputs": [
        {
          "output_type": "error",
          "ename": "TypeError",
          "evalue": "'<' not supported between instances of 'dict' and 'dict'",
          "traceback": [
            "\u001b[0;31m---------------------------------------------------------------------------\u001b[0m",
            "\u001b[0;31mTypeError\u001b[0m                                 Traceback (most recent call last)",
            "\u001b[0;32m<ipython-input-38-7d3dd5d8afa9>\u001b[0m in \u001b[0;36m<cell line: 0>\u001b[0;34m()\u001b[0m\n\u001b[0;32m----> 1\u001b[0;31m \u001b[0msorted\u001b[0m\u001b[0;34m(\u001b[0m\u001b[0mstudents\u001b[0m\u001b[0;34m)\u001b[0m\u001b[0;34m\u001b[0m\u001b[0;34m\u001b[0m\u001b[0m\n\u001b[0m",
            "\u001b[0;31mTypeError\u001b[0m: '<' not supported between instances of 'dict' and 'dict'"
          ]
        }
      ]
    },
    {
      "cell_type": "code",
      "source": [
        "{\"name\": \"A\", \"marks\": 50} > {\"name\": \"B\", \"marks\": 100}"
      ],
      "metadata": {
        "colab": {
          "base_uri": "https://localhost:8080/",
          "height": 137
        },
        "id": "w6unm4pIAqbu",
        "outputId": "31ee39cf-62df-4ea6-f27c-6bc3b015eb6a"
      },
      "execution_count": 39,
      "outputs": [
        {
          "output_type": "error",
          "ename": "TypeError",
          "evalue": "'>' not supported between instances of 'dict' and 'dict'",
          "traceback": [
            "\u001b[0;31m---------------------------------------------------------------------------\u001b[0m",
            "\u001b[0;31mTypeError\u001b[0m                                 Traceback (most recent call last)",
            "\u001b[0;32m<ipython-input-39-8a3df0408de6>\u001b[0m in \u001b[0;36m<cell line: 0>\u001b[0;34m()\u001b[0m\n\u001b[0;32m----> 1\u001b[0;31m \u001b[0;34m{\u001b[0m\u001b[0;34m\"name\"\u001b[0m\u001b[0;34m:\u001b[0m \u001b[0;34m\"A\"\u001b[0m\u001b[0;34m,\u001b[0m \u001b[0;34m\"marks\"\u001b[0m\u001b[0;34m:\u001b[0m \u001b[0;36m50\u001b[0m\u001b[0;34m}\u001b[0m \u001b[0;34m>\u001b[0m \u001b[0;34m{\u001b[0m\u001b[0;34m\"name\"\u001b[0m\u001b[0;34m:\u001b[0m \u001b[0;34m\"B\"\u001b[0m\u001b[0;34m,\u001b[0m \u001b[0;34m\"marks\"\u001b[0m\u001b[0;34m:\u001b[0m \u001b[0;36m100\u001b[0m\u001b[0;34m}\u001b[0m\u001b[0;34m\u001b[0m\u001b[0;34m\u001b[0m\u001b[0m\n\u001b[0m",
            "\u001b[0;31mTypeError\u001b[0m: '>' not supported between instances of 'dict' and 'dict'"
          ]
        }
      ]
    },
    {
      "cell_type": "markdown",
      "source": [],
      "metadata": {
        "id": "H4cK4MppBQnq"
      }
    },
    {
      "cell_type": "code",
      "source": [
        "dict1 = {\"name\": \"A\", \"marks\": 90}\n",
        "(lambda x:x['marks'])(dict1)"
      ],
      "metadata": {
        "colab": {
          "base_uri": "https://localhost:8080/"
        },
        "id": "J9_XLnjNAqZA",
        "outputId": "5a644688-7f86-4b58-dbc9-5d139feaa5a5"
      },
      "execution_count": 44,
      "outputs": [
        {
          "output_type": "execute_result",
          "data": {
            "text/plain": [
              "90"
            ]
          },
          "metadata": {},
          "execution_count": 44
        }
      ]
    },
    {
      "cell_type": "code",
      "source": [
        "students = [\n",
        "    {\"name\": \"A\", \"marks\": 50}, # x\n",
        "    {\"name\": \"B\", \"marks\": 100}, # x\n",
        "    {\"name\": \"C\", \"marks\": 40},\n",
        "    {\"name\": \"D\", \"marks\": 70},\n",
        "    {\"name\": \"E\", \"marks\": 60},\n",
        "]"
      ],
      "metadata": {
        "id": "uWMZgb1nBZmt"
      },
      "execution_count": null,
      "outputs": []
    },
    {
      "cell_type": "code",
      "source": [
        "sorted(students, key = lambda x:x['marks'], reverse = True)"
      ],
      "metadata": {
        "colab": {
          "base_uri": "https://localhost:8080/"
        },
        "id": "OcwA_VSaAqWr",
        "outputId": "402d3ae3-be31-41db-d80b-52563959c056"
      },
      "execution_count": 48,
      "outputs": [
        {
          "output_type": "execute_result",
          "data": {
            "text/plain": [
              "[{'name': 'B', 'marks': 100},\n",
              " {'name': 'D', 'marks': 70},\n",
              " {'name': 'E', 'marks': 60},\n",
              " {'name': 'A', 'marks': 50},\n",
              " {'name': 'C', 'marks': 40}]"
            ]
          },
          "metadata": {},
          "execution_count": 48
        }
      ]
    },
    {
      "cell_type": "code",
      "source": [
        "students.sort(key = lambda x:x['marks'])"
      ],
      "metadata": {
        "id": "gAEKkMzPAqUT"
      },
      "execution_count": 46,
      "outputs": []
    },
    {
      "cell_type": "code",
      "source": [
        "students"
      ],
      "metadata": {
        "colab": {
          "base_uri": "https://localhost:8080/"
        },
        "id": "1Eg9iqV3AqRc",
        "outputId": "14f83edd-2d3a-4beb-e7bc-33cfe5ad8c8d"
      },
      "execution_count": 47,
      "outputs": [
        {
          "output_type": "execute_result",
          "data": {
            "text/plain": [
              "[{'name': 'C', 'marks': 40},\n",
              " {'name': 'A', 'marks': 50},\n",
              " {'name': 'E', 'marks': 60},\n",
              " {'name': 'D', 'marks': 70},\n",
              " {'name': 'B', 'marks': 100}]"
            ]
          },
          "metadata": {},
          "execution_count": 47
        }
      ]
    },
    {
      "cell_type": "code",
      "source": [
        "list1 = [\"banana\", \"apple\", \"carrat\"]\n",
        "# sort this list based on how many a's are there\n",
        "\n",
        "list1.sort(key = lambda x:x.count('a'))\n",
        "list1"
      ],
      "metadata": {
        "colab": {
          "base_uri": "https://localhost:8080/"
        },
        "id": "_Rv9Pe_yB9hS",
        "outputId": "6386b4b2-4d75-464d-ef46-faf5aafaf1da"
      },
      "execution_count": 72,
      "outputs": [
        {
          "output_type": "execute_result",
          "data": {
            "text/plain": [
              "['apple', 'carrat', 'banana']"
            ]
          },
          "metadata": {},
          "execution_count": 72
        }
      ]
    },
    {
      "cell_type": "code",
      "source": [
        "list1 = [ [1 , 2, 4],\n",
        "          [4, 1, 10],\n",
        "          [3, 5, 9]\n",
        "          ]\n",
        "\n",
        "list1.sort(key = lambda x:x[2])\n",
        "list1\n",
        "# sort this 2d list based on 2nd index of each row"
      ],
      "metadata": {
        "colab": {
          "base_uri": "https://localhost:8080/"
        },
        "id": "271HhXLqB9ec",
        "outputId": "2910e8ca-4e91-4c8e-b13d-1db699fecba8"
      },
      "execution_count": 73,
      "outputs": [
        {
          "output_type": "execute_result",
          "data": {
            "text/plain": [
              "[[1, 2, 4], [3, 5, 9], [4, 1, 10]]"
            ]
          },
          "metadata": {},
          "execution_count": 73
        }
      ]
    },
    {
      "cell_type": "code",
      "source": [],
      "metadata": {
        "id": "vRraBoX0B9b1"
      },
      "execution_count": null,
      "outputs": []
    },
    {
      "cell_type": "code",
      "source": [],
      "metadata": {
        "id": "cVmryFFLB9Yr"
      },
      "execution_count": null,
      "outputs": []
    },
    {
      "cell_type": "markdown",
      "source": [
        "### HOF:\n",
        "A function that returns another function"
      ],
      "metadata": {
        "id": "bK6F3W-g02_X"
      }
    },
    {
      "cell_type": "code",
      "source": [
        "def gen_exp(n):\n",
        "    def exp(x):\n",
        "        return x**n\n",
        "    return exp\n",
        "\n",
        "exp_ver2 = gen_exp(2)\n",
        "exp_ver2"
      ],
      "metadata": {
        "id": "8UZdShhwz7vm",
        "colab": {
          "base_uri": "https://localhost:8080/",
          "height": 101
        },
        "outputId": "9e5f2781-dc16-4270-fffa-8e8644ccc29b"
      },
      "execution_count": 51,
      "outputs": [
        {
          "output_type": "execute_result",
          "data": {
            "text/plain": [
              "<function __main__.gen_exp.<locals>.exp(x)>"
            ],
            "text/html": [
              "<div style=\"max-width:800px; border: 1px solid var(--colab-border-color);\"><style>\n",
              "      pre.function-repr-contents {\n",
              "        overflow-x: auto;\n",
              "        padding: 8px 12px;\n",
              "        max-height: 500px;\n",
              "      }\n",
              "\n",
              "      pre.function-repr-contents.function-repr-contents-collapsed {\n",
              "        cursor: pointer;\n",
              "        max-height: 100px;\n",
              "      }\n",
              "    </style>\n",
              "    <pre style=\"white-space: initial; background:\n",
              "         var(--colab-secondary-surface-color); padding: 8px 12px;\n",
              "         border-bottom: 1px solid var(--colab-border-color);\"><b>gen_exp.&lt;locals&gt;.exp</b><br/>def exp(x)</pre><pre class=\"function-repr-contents function-repr-contents-collapsed\" style=\"\"><a class=\"filepath\" style=\"display:none\" href=\"#\">/content/&lt;ipython-input-51-5d7e165ca1ac&gt;</a>&lt;no docstring&gt;</pre></div>"
            ]
          },
          "metadata": {},
          "execution_count": 51
        }
      ]
    },
    {
      "cell_type": "code",
      "source": [
        "exp_ver2(4)"
      ],
      "metadata": {
        "colab": {
          "base_uri": "https://localhost:8080/"
        },
        "id": "Okjr-2ieFYWP",
        "outputId": "d44bcc7e-37ce-440f-c7f6-2557e46d84b1"
      },
      "execution_count": 53,
      "outputs": [
        {
          "output_type": "execute_result",
          "data": {
            "text/plain": [
              "16"
            ]
          },
          "metadata": {},
          "execution_count": 53
        }
      ]
    },
    {
      "cell_type": "code",
      "source": [
        "exp_ver3 = gen_exp(3)\n",
        "exp_ver3"
      ],
      "metadata": {
        "id": "8lTBm7Ax1NG8",
        "colab": {
          "base_uri": "https://localhost:8080/",
          "height": 101
        },
        "outputId": "5b8ae2e4-d6a4-4d22-f100-1a8bb4e34eae"
      },
      "execution_count": 52,
      "outputs": [
        {
          "output_type": "execute_result",
          "data": {
            "text/plain": [
              "<function __main__.gen_exp.<locals>.exp(x)>"
            ],
            "text/html": [
              "<div style=\"max-width:800px; border: 1px solid var(--colab-border-color);\"><style>\n",
              "      pre.function-repr-contents {\n",
              "        overflow-x: auto;\n",
              "        padding: 8px 12px;\n",
              "        max-height: 500px;\n",
              "      }\n",
              "\n",
              "      pre.function-repr-contents.function-repr-contents-collapsed {\n",
              "        cursor: pointer;\n",
              "        max-height: 100px;\n",
              "      }\n",
              "    </style>\n",
              "    <pre style=\"white-space: initial; background:\n",
              "         var(--colab-secondary-surface-color); padding: 8px 12px;\n",
              "         border-bottom: 1px solid var(--colab-border-color);\"><b>gen_exp.&lt;locals&gt;.exp</b><br/>def exp(x)</pre><pre class=\"function-repr-contents function-repr-contents-collapsed\" style=\"\"><a class=\"filepath\" style=\"display:none\" href=\"#\">/content/&lt;ipython-input-51-5d7e165ca1ac&gt;</a>&lt;no docstring&gt;</pre></div>"
            ]
          },
          "metadata": {},
          "execution_count": 52
        }
      ]
    },
    {
      "cell_type": "code",
      "source": [
        "exp_ver3(4)"
      ],
      "metadata": {
        "id": "GUHGamol1NEh",
        "colab": {
          "base_uri": "https://localhost:8080/"
        },
        "outputId": "d34c01de-eafc-401d-cacb-837e5dcbb7c9"
      },
      "execution_count": 54,
      "outputs": [
        {
          "output_type": "execute_result",
          "data": {
            "text/plain": [
              "64"
            ]
          },
          "metadata": {},
          "execution_count": 54
        }
      ]
    },
    {
      "cell_type": "markdown",
      "source": [
        "### Decorator(subset of HOF):\n",
        "A function that takes other functions as input and return decorated function"
      ],
      "metadata": {
        "id": "g9xuCYpj08WT"
      }
    },
    {
      "cell_type": "code",
      "source": [
        "def foo():\n",
        "    print(\"I am foo\")\n",
        "\n",
        "def bar():\n",
        "    print(\"I am bar\")\n",
        "\n",
        "foo()"
      ],
      "metadata": {
        "id": "v-GgqJt2z7lc",
        "colab": {
          "base_uri": "https://localhost:8080/"
        },
        "outputId": "9a872e34-97f7-48d5-bf41-950481fdd9f0"
      },
      "execution_count": 56,
      "outputs": [
        {
          "output_type": "stream",
          "name": "stdout",
          "text": [
            "I am foo\n"
          ]
        }
      ]
    },
    {
      "cell_type": "code",
      "source": [
        "bar()"
      ],
      "metadata": {
        "id": "eoladYxHz7i3",
        "colab": {
          "base_uri": "https://localhost:8080/"
        },
        "outputId": "326cf9ec-e709-4ea6-eee1-8aeca5cb7660"
      },
      "execution_count": 57,
      "outputs": [
        {
          "output_type": "stream",
          "name": "stdout",
          "text": [
            "I am bar\n"
          ]
        }
      ]
    },
    {
      "cell_type": "code",
      "source": [
        "def foo():\n",
        "    print(\"#\"*10)\n",
        "    print(\"I am foo\")\n",
        "    print(\"#\"*10)\n",
        "\n",
        "foo()"
      ],
      "metadata": {
        "id": "YuuSuPhOz7gf",
        "colab": {
          "base_uri": "https://localhost:8080/"
        },
        "outputId": "9936c6a4-b753-4aec-986d-54e6c2c68ba2"
      },
      "execution_count": 60,
      "outputs": [
        {
          "output_type": "stream",
          "name": "stdout",
          "text": [
            "##########\n",
            "I am foo\n",
            "##########\n"
          ]
        }
      ]
    },
    {
      "cell_type": "code",
      "source": [
        "def bar():\n",
        "    print(\"#\"*10)\n",
        "    print(\"I am bar\")\n",
        "    print(\"#\"*10)\n",
        "\n",
        "bar()"
      ],
      "metadata": {
        "id": "yfPT9yJAz7Jl",
        "colab": {
          "base_uri": "https://localhost:8080/"
        },
        "outputId": "6c0bef1c-4bed-44d4-b3cd-de0979449821"
      },
      "execution_count": 61,
      "outputs": [
        {
          "output_type": "stream",
          "name": "stdout",
          "text": [
            "##########\n",
            "I am bar\n",
            "##########\n"
          ]
        }
      ]
    },
    {
      "cell_type": "markdown",
      "source": [
        "- decorator"
      ],
      "metadata": {
        "id": "7zLcHMw3HjFD"
      }
    },
    {
      "cell_type": "code",
      "source": [
        "# decorator\n",
        "def pretty(some_func):\n",
        "    def inner():\n",
        "        print(\"#\"*10)\n",
        "        some_func() # execute the input function\n",
        "        print(\"#\"*10)\n",
        "    return inner\n",
        "\n",
        "\n",
        "def hello():\n",
        "    print(\"Hello World\")\n",
        "\n",
        "hello()"
      ],
      "metadata": {
        "colab": {
          "base_uri": "https://localhost:8080/"
        },
        "id": "Sb7CzL7pHga4",
        "outputId": "f0c36fcc-19fe-4179-8c9e-3d55dde47104"
      },
      "execution_count": 63,
      "outputs": [
        {
          "output_type": "stream",
          "name": "stdout",
          "text": [
            "Hello World\n"
          ]
        }
      ]
    },
    {
      "cell_type": "code",
      "source": [
        "new_hello = pretty(hello)\n",
        "new_hello()"
      ],
      "metadata": {
        "colab": {
          "base_uri": "https://localhost:8080/"
        },
        "id": "tLD9oO0LHgX4",
        "outputId": "e55ddb39-ec2e-443e-c653-1faef1ed9e32"
      },
      "execution_count": 64,
      "outputs": [
        {
          "output_type": "stream",
          "name": "stdout",
          "text": [
            "##########\n",
            "Hello World\n",
            "##########\n"
          ]
        }
      ]
    },
    {
      "cell_type": "code",
      "source": [
        "def foo():\n",
        "    print(\"I am foo\")\n",
        "\n",
        "def bar():\n",
        "    print(\"I am bar\")\n",
        "\n",
        "foo = pretty(foo)\n",
        "bar = pretty(bar)"
      ],
      "metadata": {
        "id": "akHlUSnpHgVH"
      },
      "execution_count": 65,
      "outputs": []
    },
    {
      "cell_type": "code",
      "source": [
        "foo()"
      ],
      "metadata": {
        "colab": {
          "base_uri": "https://localhost:8080/"
        },
        "id": "H85bPNDaHgSk",
        "outputId": "85fd47d2-cf1b-45de-fd2c-91ddb516ee07"
      },
      "execution_count": 66,
      "outputs": [
        {
          "output_type": "stream",
          "name": "stdout",
          "text": [
            "##########\n",
            "I am foo\n",
            "##########\n"
          ]
        }
      ]
    },
    {
      "cell_type": "code",
      "source": [
        "bar()"
      ],
      "metadata": {
        "id": "4pgrVtPpz7Gt",
        "colab": {
          "base_uri": "https://localhost:8080/"
        },
        "outputId": "ece15cfe-6235-4e9c-e4ec-b9313a4b56f5"
      },
      "execution_count": 67,
      "outputs": [
        {
          "output_type": "stream",
          "name": "stdout",
          "text": [
            "##########\n",
            "I am bar\n",
            "##########\n"
          ]
        }
      ]
    },
    {
      "cell_type": "markdown",
      "source": [
        "# shortcut = mind blowing"
      ],
      "metadata": {
        "id": "O2p7IXaJI17E"
      }
    },
    {
      "cell_type": "code",
      "source": [
        "@pretty # magic = pretty(magic)\n",
        "def magic():\n",
        "    print(\"here we go\")\n",
        "\n",
        "magic()"
      ],
      "metadata": {
        "id": "5D-sjURxz7D2",
        "colab": {
          "base_uri": "https://localhost:8080/"
        },
        "outputId": "248d0dc6-91cb-4458-d20f-c1c4d1be8d9d"
      },
      "execution_count": 69,
      "outputs": [
        {
          "output_type": "stream",
          "name": "stdout",
          "text": [
            "##########\n",
            "here we go\n",
            "##########\n"
          ]
        }
      ]
    },
    {
      "cell_type": "code",
      "source": [
        "def pretty(some_func):\n",
        "    def inner(x, y):\n",
        "        print(\"#\"*10)\n",
        "        some_func(x, y) # execute the input function\n",
        "        print(\"#\"*10)\n",
        "    return inner\n",
        "\n",
        "@pretty\n",
        "def func(x,y):\n",
        "    print(x+y)\n",
        "func(10, 20)"
      ],
      "metadata": {
        "colab": {
          "base_uri": "https://localhost:8080/"
        },
        "id": "eB8jeCUMJKcH",
        "outputId": "e764b373-0c60-47ad-e897-bc3a4a5c1bef"
      },
      "execution_count": 70,
      "outputs": [
        {
          "output_type": "stream",
          "name": "stdout",
          "text": [
            "##########\n",
            "30\n",
            "##########\n"
          ]
        }
      ]
    },
    {
      "cell_type": "markdown",
      "source": [
        "### AW: Can you write a decorator named benchmark to decorate function such that they print execution time and then return response?"
      ],
      "metadata": {
        "id": "-CdIUgmc0ces"
      }
    },
    {
      "cell_type": "code",
      "source": [
        "def factorail_ver1(n):\n",
        "    if n<=1:\n",
        "        return 1\n",
        "    else:\n",
        "        return factorail_ver1(n-1)*n\n",
        "factorail_ver1(5)"
      ],
      "metadata": {
        "colab": {
          "base_uri": "https://localhost:8080/"
        },
        "id": "fmbjgKXiz7BQ",
        "outputId": "d45a09c1-7de3-47be-ee6b-edbdec06babb"
      },
      "execution_count": null,
      "outputs": [
        {
          "output_type": "execute_result",
          "data": {
            "text/plain": [
              "120"
            ]
          },
          "metadata": {},
          "execution_count": 4
        }
      ]
    },
    {
      "cell_type": "code",
      "source": [
        "def factorail_ver2(n):\n",
        "    out = 1\n",
        "    while n>=1:\n",
        "        out*=n\n",
        "        n-=1\n",
        "    return out\n",
        "out = factorail_ver2(5)\n",
        "print(out)"
      ],
      "metadata": {
        "colab": {
          "base_uri": "https://localhost:8080/"
        },
        "id": "LwtOpvKPz6-p",
        "outputId": "933a28e8-f69b-45e0-c563-236d0f691253"
      },
      "execution_count": null,
      "outputs": [
        {
          "output_type": "stream",
          "name": "stdout",
          "text": [
            "120\n"
          ]
        }
      ]
    },
    {
      "cell_type": "code",
      "source": [
        "import time\n",
        "\n",
        "\n",
        "print(\"Starting Execution\")\n",
        "s = time.time()\n",
        "out = factorail_ver2(5)\n",
        "e = time.time()\n",
        "print(\"Execution finished\")\n",
        "print(\"Total time taken: \", e - s)"
      ],
      "metadata": {
        "colab": {
          "base_uri": "https://localhost:8080/"
        },
        "id": "rwAVPRmGz65R",
        "outputId": "b28b9514-c015-4281-a3a3-94e795bb3b1e"
      },
      "execution_count": null,
      "outputs": [
        {
          "output_type": "stream",
          "name": "stdout",
          "text": [
            "Starting Execution\n",
            "Execution finished\n",
            "Total time taken:  6.508827209472656e-05\n"
          ]
        }
      ]
    },
    {
      "cell_type": "code",
      "source": [
        "# resume @ 10: 24"
      ],
      "metadata": {
        "id": "5jK50dw80SZq"
      },
      "execution_count": null,
      "outputs": []
    },
    {
      "cell_type": "markdown",
      "source": [
        "### MAP"
      ],
      "metadata": {
        "id": "asSOOmNGMBwV"
      }
    },
    {
      "cell_type": "code",
      "source": [
        "num_list = [1, 2, 3, 4]\n",
        "\n",
        "obj = map(lambda x: x**2, num_list)\n",
        "obj"
      ],
      "metadata": {
        "colab": {
          "base_uri": "https://localhost:8080/"
        },
        "id": "9T14YBtYNjrS",
        "outputId": "78b16bf1-019d-4105-80bc-16a67f1ed625"
      },
      "execution_count": 77,
      "outputs": [
        {
          "output_type": "execute_result",
          "data": {
            "text/plain": [
              "<map at 0x796c6fb75450>"
            ]
          },
          "metadata": {},
          "execution_count": 77
        }
      ]
    },
    {
      "cell_type": "code",
      "source": [
        "for i in obj:\n",
        "    print(i)"
      ],
      "metadata": {
        "colab": {
          "base_uri": "https://localhost:8080/"
        },
        "id": "09H2_0NgNw20",
        "outputId": "4f622c95-1f19-47c4-b0b8-6dd086a5c23d"
      },
      "execution_count": 78,
      "outputs": [
        {
          "output_type": "stream",
          "name": "stdout",
          "text": [
            "1\n",
            "4\n",
            "9\n",
            "16\n"
          ]
        }
      ]
    },
    {
      "cell_type": "code",
      "source": [
        "for i in obj:\n",
        "    print(i)"
      ],
      "metadata": {
        "id": "Hd-8FW9SN9jY"
      },
      "execution_count": 80,
      "outputs": []
    },
    {
      "cell_type": "code",
      "source": [
        "obj = map(lambda x: x**2, num_list)\n",
        "list(obj)"
      ],
      "metadata": {
        "colab": {
          "base_uri": "https://localhost:8080/"
        },
        "id": "3y_mZePPOASb",
        "outputId": "64710d50-2292-43da-a775-f280de7dfafa"
      },
      "execution_count": 81,
      "outputs": [
        {
          "output_type": "execute_result",
          "data": {
            "text/plain": [
              "[1, 4, 9, 16]"
            ]
          },
          "metadata": {},
          "execution_count": 81
        }
      ]
    },
    {
      "cell_type": "code",
      "source": [
        "obj = map(lambda x: x**2, num_list)\n",
        "list(obj)"
      ],
      "metadata": {
        "colab": {
          "base_uri": "https://localhost:8080/"
        },
        "id": "-hzdEQT1Oa2D",
        "outputId": "a8820064-c805-4d22-e72f-73397c889e72"
      },
      "execution_count": 82,
      "outputs": [
        {
          "output_type": "execute_result",
          "data": {
            "text/plain": [
              "(1, 4, 9, 16)"
            ]
          },
          "metadata": {},
          "execution_count": 82
        }
      ]
    },
    {
      "cell_type": "code",
      "source": [
        "obj = map(lambda x: x**2, num_list)\n",
        "tuple(obj)"
      ],
      "metadata": {
        "colab": {
          "base_uri": "https://localhost:8080/"
        },
        "id": "YIq4KAjaOd02",
        "outputId": "bf09825e-5f3d-4a6e-a759-73537bd21f21"
      },
      "execution_count": 84,
      "outputs": [
        {
          "output_type": "execute_result",
          "data": {
            "text/plain": [
              "(1, 4, 9, 16)"
            ]
          },
          "metadata": {},
          "execution_count": 84
        }
      ]
    },
    {
      "cell_type": "code",
      "source": [
        "num_list = [1, 2, 3, 4]\n",
        "\n",
        "obj = map(lambda x: x**2, num_list)\n",
        "obj"
      ],
      "metadata": {
        "colab": {
          "base_uri": "https://localhost:8080/"
        },
        "id": "mySEqsIuOfa1",
        "outputId": "00f2f87b-f3ae-4653-abc5-825d9354b859"
      },
      "execution_count": 95,
      "outputs": [
        {
          "output_type": "execute_result",
          "data": {
            "text/plain": [
              "<map at 0x796c6fc3dba0>"
            ]
          },
          "metadata": {},
          "execution_count": 95
        }
      ]
    },
    {
      "cell_type": "code",
      "source": [
        "count = 0\n",
        "for i in obj:\n",
        "    print(i)\n",
        "    if count==2:\n",
        "        break\n",
        "    count+=1\n",
        ""
      ],
      "metadata": {
        "colab": {
          "base_uri": "https://localhost:8080/"
        },
        "id": "XLpTHCk2O6DB",
        "outputId": "5dd84402-1fc3-4119-da43-3887087b0d3b"
      },
      "execution_count": 96,
      "outputs": [
        {
          "output_type": "stream",
          "name": "stdout",
          "text": [
            "1\n",
            "4\n",
            "9\n"
          ]
        }
      ]
    },
    {
      "cell_type": "code",
      "source": [
        "for i in obj:\n",
        "    print(i)"
      ],
      "metadata": {
        "colab": {
          "base_uri": "https://localhost:8080/"
        },
        "id": "WdPEMH5iPOjD",
        "outputId": "65621eae-5b87-4b83-bb15-cf5509a59d6d"
      },
      "execution_count": 97,
      "outputs": [
        {
          "output_type": "stream",
          "name": "stdout",
          "text": [
            "16\n"
          ]
        }
      ]
    },
    {
      "cell_type": "code",
      "source": [
        "num_list = [1, 2, 3, 4]\n",
        "\n",
        "(lambda x: x % 2 == 0)(2)\n"
      ],
      "metadata": {
        "colab": {
          "base_uri": "https://localhost:8080/"
        },
        "id": "ZmeXCo5SPb4V",
        "outputId": "43e56494-5e71-4312-b50f-51d6fd6aab42"
      },
      "execution_count": 98,
      "outputs": [
        {
          "output_type": "execute_result",
          "data": {
            "text/plain": [
              "True"
            ]
          },
          "metadata": {},
          "execution_count": 98
        }
      ]
    },
    {
      "cell_type": "code",
      "source": [
        "(lambda x: x % 2 == 0)(3)"
      ],
      "metadata": {
        "colab": {
          "base_uri": "https://localhost:8080/"
        },
        "id": "BOGMOsSbREsy",
        "outputId": "9e4c503b-d72f-4be9-c39c-3334a7b54ae0"
      },
      "execution_count": 99,
      "outputs": [
        {
          "output_type": "execute_result",
          "data": {
            "text/plain": [
              "False"
            ]
          },
          "metadata": {},
          "execution_count": 99
        }
      ]
    },
    {
      "cell_type": "markdown",
      "source": [
        "### filter"
      ],
      "metadata": {
        "id": "KU_B6cctRITF"
      }
    },
    {
      "cell_type": "code",
      "source": [
        "num_list = [1, 2, 3, 4]\n",
        "\n",
        "filter(lambda x: x % 2 == 0, num_list)"
      ],
      "metadata": {
        "colab": {
          "base_uri": "https://localhost:8080/"
        },
        "id": "N6h1We7tRGRf",
        "outputId": "43dbde17-6d2f-40a5-8f75-b981c1d19fa9"
      },
      "execution_count": 100,
      "outputs": [
        {
          "output_type": "execute_result",
          "data": {
            "text/plain": [
              "<filter at 0x796c6fa1f9a0>"
            ]
          },
          "metadata": {},
          "execution_count": 100
        }
      ]
    },
    {
      "cell_type": "code",
      "source": [
        "list(filter(lambda x: x % 2 == 0, num_list))"
      ],
      "metadata": {
        "colab": {
          "base_uri": "https://localhost:8080/"
        },
        "id": "SQ2PFHiMRPTu",
        "outputId": "d84235ff-e6c4-46d2-e556-d8382a64705f"
      },
      "execution_count": 101,
      "outputs": [
        {
          "output_type": "execute_result",
          "data": {
            "text/plain": [
              "[2, 4]"
            ]
          },
          "metadata": {},
          "execution_count": 101
        }
      ]
    },
    {
      "cell_type": "code",
      "source": [
        "num_list = [1, 2]\n",
        "\n",
        "list(filter(lambda x: x**2, num_list))"
      ],
      "metadata": {
        "colab": {
          "base_uri": "https://localhost:8080/"
        },
        "id": "x1fOMNm0RRmo",
        "outputId": "756ce2ce-e4c4-4bf3-e68b-9d2c738b67c3"
      },
      "execution_count": 107,
      "outputs": [
        {
          "output_type": "execute_result",
          "data": {
            "text/plain": [
              "[1, 2]"
            ]
          },
          "metadata": {},
          "execution_count": 107
        }
      ]
    },
    {
      "cell_type": "code",
      "source": [
        "num_list = [1, 2]\n",
        "\n",
        "list(map(lambda x: x**2, num_list))"
      ],
      "metadata": {
        "colab": {
          "base_uri": "https://localhost:8080/"
        },
        "id": "IJvCePVsSE0Q",
        "outputId": "2a7ccc8a-572b-4b64-8645-86c5c06bbec5"
      },
      "execution_count": 108,
      "outputs": [
        {
          "output_type": "execute_result",
          "data": {
            "text/plain": [
              "[1, 4]"
            ]
          },
          "metadata": {},
          "execution_count": 108
        }
      ]
    },
    {
      "cell_type": "code",
      "source": [
        "bool((lambda x: x**2)(1))"
      ],
      "metadata": {
        "colab": {
          "base_uri": "https://localhost:8080/"
        },
        "id": "FCY7Lw3iRsVB",
        "outputId": "1f281344-b5d6-43bc-d9f4-a2428982e870"
      },
      "execution_count": 103,
      "outputs": [
        {
          "output_type": "execute_result",
          "data": {
            "text/plain": [
              "True"
            ]
          },
          "metadata": {},
          "execution_count": 103
        }
      ]
    },
    {
      "cell_type": "code",
      "source": [
        "(lambda x: x**2)(2)"
      ],
      "metadata": {
        "colab": {
          "base_uri": "https://localhost:8080/"
        },
        "id": "KnRpRp_aRuJu",
        "outputId": "95c37ef2-a207-4e5d-e7dc-5b6c983873b8"
      },
      "execution_count": 104,
      "outputs": [
        {
          "output_type": "execute_result",
          "data": {
            "text/plain": [
              "4"
            ]
          },
          "metadata": {},
          "execution_count": 104
        }
      ]
    },
    {
      "cell_type": "code",
      "source": [
        "bool(4)"
      ],
      "metadata": {
        "colab": {
          "base_uri": "https://localhost:8080/"
        },
        "id": "65F6H1f8Rzao",
        "outputId": "1ecc8bcb-4a0b-4448-9f44-afed72d34ea8"
      },
      "execution_count": 106,
      "outputs": [
        {
          "output_type": "execute_result",
          "data": {
            "text/plain": [
              "True"
            ]
          },
          "metadata": {},
          "execution_count": 106
        }
      ]
    },
    {
      "cell_type": "code",
      "source": [],
      "metadata": {
        "id": "61N4f2qnR0--"
      },
      "execution_count": 106,
      "outputs": []
    }
  ]
}