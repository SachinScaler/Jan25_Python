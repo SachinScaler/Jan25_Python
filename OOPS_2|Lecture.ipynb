{
  "nbformat": 4,
  "nbformat_minor": 0,
  "metadata": {
    "colab": {
      "provenance": [],
      "authorship_tag": "ABX9TyP5agk+3AhRjHlJnUnuVc2p",
      "include_colab_link": true
    },
    "kernelspec": {
      "name": "python3",
      "display_name": "Python 3"
    },
    "language_info": {
      "name": "python"
    }
  },
  "cells": [
    {
      "cell_type": "markdown",
      "metadata": {
        "id": "view-in-github",
        "colab_type": "text"
      },
      "source": [
        "<a href=\"https://colab.research.google.com/github/SachinScaler/Jan25_Python/blob/main/OOPS_2%7CLecture.ipynb\" target=\"_parent\"><img src=\"https://colab.research.google.com/assets/colab-badge.svg\" alt=\"Open In Colab\"/></a>"
      ]
    },
    {
      "cell_type": "code",
      "execution_count": 8,
      "metadata": {
        "colab": {
          "base_uri": "https://localhost:8080/"
        },
        "id": "3Zl2o5t-l52O",
        "outputId": "a6ec9280-f9c2-49fc-c6ba-771def0761dd"
      },
      "outputs": [
        {
          "output_type": "execute_result",
          "data": {
            "text/plain": [
              "5000"
            ]
          },
          "metadata": {},
          "execution_count": 8
        }
      ],
      "source": [
        "class BankAccount:\n",
        "    def __init__(self, acc_id, balance):\n",
        "        self.__acc_id = acc_id # private vars\n",
        "        self.__balance = balance # private vars\n",
        "        self.bank_name = \"SBI\" # public\n",
        "\n",
        "    def credit(self, amount):\n",
        "        self.__balance += amount\n",
        "\n",
        "    def check_balance(self):\n",
        "        return self.__balance\n",
        "\n",
        "    def debit(self, amount):\n",
        "        pass\n",
        "\n",
        "ba1 = BankAccount(101, 5000)\n",
        "ba1.check_balance()"
      ]
    },
    {
      "cell_type": "code",
      "source": [
        "ba1.__dict__"
      ],
      "metadata": {
        "colab": {
          "base_uri": "https://localhost:8080/"
        },
        "id": "2u2NTOFWmAmJ",
        "outputId": "fcd44575-ff5d-4b95-ada5-853e76f935fa"
      },
      "execution_count": 9,
      "outputs": [
        {
          "output_type": "execute_result",
          "data": {
            "text/plain": [
              "{'_BankAccount__acc_id': 101,\n",
              " '_BankAccount__balance': 5000,\n",
              " 'bank_name': 'SBI'}"
            ]
          },
          "metadata": {},
          "execution_count": 9
        }
      ]
    },
    {
      "cell_type": "code",
      "source": [
        "ba2 = BankAccount(102, 5050)\n",
        "ba2.__dict__"
      ],
      "metadata": {
        "colab": {
          "base_uri": "https://localhost:8080/"
        },
        "id": "Ec9_9W0wosZO",
        "outputId": "9ae89184-8a63-447c-a156-1dc50c0a6068"
      },
      "execution_count": 10,
      "outputs": [
        {
          "output_type": "execute_result",
          "data": {
            "text/plain": [
              "{'_BankAccount__acc_id': 102,\n",
              " '_BankAccount__balance': 5050,\n",
              " 'bank_name': 'SBI'}"
            ]
          },
          "metadata": {},
          "execution_count": 10
        }
      ]
    },
    {
      "cell_type": "code",
      "source": [
        "ba3 = BankAccount(103, 10000)\n",
        "ba3.__dict__"
      ],
      "metadata": {
        "colab": {
          "base_uri": "https://localhost:8080/"
        },
        "id": "gJMQsSPypXZ-",
        "outputId": "2f185a47-7d43-414d-bf83-19f5d89f5ea0"
      },
      "execution_count": 11,
      "outputs": [
        {
          "output_type": "execute_result",
          "data": {
            "text/plain": [
              "{'_BankAccount__acc_id': 103,\n",
              " '_BankAccount__balance': 10000,\n",
              " 'bank_name': 'SBI'}"
            ]
          },
          "metadata": {},
          "execution_count": 11
        }
      ]
    },
    {
      "cell_type": "code",
      "source": [
        "class BankAccount:\n",
        "    bank_name = \"SBI\"\n",
        "    def __init__(self, acc_id, balance):\n",
        "        self.__acc_id = acc_id # private vars\n",
        "        self.__balance = balance # private vars\n",
        "\n",
        "\n",
        "    def credit(self, amount):\n",
        "        self.__balance += amount\n",
        "\n",
        "    def check_balance(self):\n",
        "        return self.__balance\n",
        "\n",
        "    def debit(self, amount):\n",
        "        pass\n",
        "\n",
        "ba1 = BankAccount(101, 5000)\n",
        "ba1.__dict__"
      ],
      "metadata": {
        "colab": {
          "base_uri": "https://localhost:8080/"
        },
        "id": "JPP84g-DpcRg",
        "outputId": "4dcd4465-cc60-4377-c80c-7e868b0f4ee5"
      },
      "execution_count": 12,
      "outputs": [
        {
          "output_type": "execute_result",
          "data": {
            "text/plain": [
              "{'_BankAccount__acc_id': 101, '_BankAccount__balance': 5000}"
            ]
          },
          "metadata": {},
          "execution_count": 12
        }
      ]
    },
    {
      "cell_type": "code",
      "source": [
        "print(ba1.bank_name)"
      ],
      "metadata": {
        "colab": {
          "base_uri": "https://localhost:8080/"
        },
        "id": "00YIUrQ8qH5e",
        "outputId": "42749b94-577d-4be2-e2ee-42c5e991c712"
      },
      "execution_count": 13,
      "outputs": [
        {
          "output_type": "stream",
          "name": "stdout",
          "text": [
            "SBI\n"
          ]
        }
      ]
    },
    {
      "cell_type": "code",
      "source": [
        "ba2 = BankAccount(102, 10000)\n",
        "ba2.__dict__"
      ],
      "metadata": {
        "colab": {
          "base_uri": "https://localhost:8080/"
        },
        "id": "nIGNdXdFqOBI",
        "outputId": "51fa4258-8da7-41db-a769-16d325805453"
      },
      "execution_count": 14,
      "outputs": [
        {
          "output_type": "execute_result",
          "data": {
            "text/plain": [
              "{'_BankAccount__acc_id': 102, '_BankAccount__balance': 10000}"
            ]
          },
          "metadata": {},
          "execution_count": 14
        }
      ]
    },
    {
      "cell_type": "code",
      "source": [
        "print(ba2.bank_name)"
      ],
      "metadata": {
        "colab": {
          "base_uri": "https://localhost:8080/"
        },
        "id": "ahN63ruKqSRK",
        "outputId": "d6701fee-5925-4c8b-e43c-c820c7f90ab1"
      },
      "execution_count": 15,
      "outputs": [
        {
          "output_type": "stream",
          "name": "stdout",
          "text": [
            "SBI\n"
          ]
        }
      ]
    },
    {
      "cell_type": "code",
      "source": [
        "BankAccount.bank_name"
      ],
      "metadata": {
        "colab": {
          "base_uri": "https://localhost:8080/",
          "height": 36
        },
        "id": "O4WN4AdDqU61",
        "outputId": "8d351bc8-17b2-4f2f-9378-cecbf1e0a5de"
      },
      "execution_count": 16,
      "outputs": [
        {
          "output_type": "execute_result",
          "data": {
            "text/plain": [
              "'SBI'"
            ],
            "application/vnd.google.colaboratory.intrinsic+json": {
              "type": "string"
            }
          },
          "metadata": {},
          "execution_count": 16
        }
      ]
    },
    {
      "cell_type": "markdown",
      "source": [
        "### Modification of Class Var"
      ],
      "metadata": {
        "id": "KCVYqYHnrQff"
      }
    },
    {
      "cell_type": "code",
      "source": [
        "ba1.__dict__"
      ],
      "metadata": {
        "colab": {
          "base_uri": "https://localhost:8080/"
        },
        "id": "fe1GJB8OrZzy",
        "outputId": "9c59b6ad-adae-4a7b-e4af-57f3631e761c"
      },
      "execution_count": 17,
      "outputs": [
        {
          "output_type": "execute_result",
          "data": {
            "text/plain": [
              "{'_BankAccount__acc_id': 101, '_BankAccount__balance': 5000}"
            ]
          },
          "metadata": {},
          "execution_count": 17
        }
      ]
    },
    {
      "cell_type": "code",
      "source": [
        "ba1.bank_name = \"LunchTime SBI\""
      ],
      "metadata": {
        "id": "b91seAlHqZ6z"
      },
      "execution_count": 18,
      "outputs": []
    },
    {
      "cell_type": "code",
      "source": [
        "ba1.__dict__"
      ],
      "metadata": {
        "colab": {
          "base_uri": "https://localhost:8080/"
        },
        "id": "m4jy7IvsrXQf",
        "outputId": "902d9dec-b607-4b5d-85b4-1e9a38085841"
      },
      "execution_count": 19,
      "outputs": [
        {
          "output_type": "execute_result",
          "data": {
            "text/plain": [
              "{'_BankAccount__acc_id': 101,\n",
              " '_BankAccount__balance': 5000,\n",
              " 'bank_name': 'LunchTime SBI'}"
            ]
          },
          "metadata": {},
          "execution_count": 19
        }
      ]
    },
    {
      "cell_type": "code",
      "source": [
        "ba1.bank_name"
      ],
      "metadata": {
        "colab": {
          "base_uri": "https://localhost:8080/",
          "height": 36
        },
        "id": "EbkeL9wQrfyO",
        "outputId": "423b5de5-87c2-40b1-fe38-d1a4b4a3e231"
      },
      "execution_count": 20,
      "outputs": [
        {
          "output_type": "execute_result",
          "data": {
            "text/plain": [
              "'LunchTime SBI'"
            ],
            "application/vnd.google.colaboratory.intrinsic+json": {
              "type": "string"
            }
          },
          "metadata": {},
          "execution_count": 20
        }
      ]
    },
    {
      "cell_type": "code",
      "source": [
        "ba2.bank_name, BankAccount.bank_name"
      ],
      "metadata": {
        "colab": {
          "base_uri": "https://localhost:8080/"
        },
        "id": "TrfncNQsrmeA",
        "outputId": "0cc4bbf5-e32f-45f4-e13b-e776e00557ee"
      },
      "execution_count": 21,
      "outputs": [
        {
          "output_type": "execute_result",
          "data": {
            "text/plain": [
              "('SBI', 'SBI')"
            ]
          },
          "metadata": {},
          "execution_count": 21
        }
      ]
    },
    {
      "cell_type": "code",
      "source": [
        "BankAccount.bank_name = \"RBI\""
      ],
      "metadata": {
        "id": "f_v8HDoYrp38"
      },
      "execution_count": 22,
      "outputs": []
    },
    {
      "cell_type": "code",
      "source": [
        "ba2.bank_name"
      ],
      "metadata": {
        "colab": {
          "base_uri": "https://localhost:8080/",
          "height": 36
        },
        "id": "VJADk_mYsIHo",
        "outputId": "5367b6ac-a546-4115-b846-b69197761a54"
      },
      "execution_count": 23,
      "outputs": [
        {
          "output_type": "execute_result",
          "data": {
            "text/plain": [
              "'RBI'"
            ],
            "application/vnd.google.colaboratory.intrinsic+json": {
              "type": "string"
            }
          },
          "metadata": {},
          "execution_count": 23
        }
      ]
    },
    {
      "cell_type": "code",
      "source": [
        "ba2.__dict__"
      ],
      "metadata": {
        "colab": {
          "base_uri": "https://localhost:8080/"
        },
        "id": "QiBl5tWfsrV0",
        "outputId": "f738b411-bbea-44c5-937b-825f50b491e7"
      },
      "execution_count": 24,
      "outputs": [
        {
          "output_type": "execute_result",
          "data": {
            "text/plain": [
              "{'_BankAccount__acc_id': 102, '_BankAccount__balance': 10000}"
            ]
          },
          "metadata": {},
          "execution_count": 24
        }
      ]
    },
    {
      "cell_type": "code",
      "source": [
        "BankAccount.bank_name"
      ],
      "metadata": {
        "colab": {
          "base_uri": "https://localhost:8080/",
          "height": 36
        },
        "id": "hlqVDeBwsJke",
        "outputId": "7647e078-640a-4dce-e239-e6c483216ee4"
      },
      "execution_count": 25,
      "outputs": [
        {
          "output_type": "execute_result",
          "data": {
            "text/plain": [
              "'RBI'"
            ],
            "application/vnd.google.colaboratory.intrinsic+json": {
              "type": "string"
            }
          },
          "metadata": {},
          "execution_count": 25
        }
      ]
    },
    {
      "cell_type": "code",
      "source": [
        "ba3 = BankAccount(103, 10000)\n",
        "ba3.bank_name"
      ],
      "metadata": {
        "colab": {
          "base_uri": "https://localhost:8080/",
          "height": 36
        },
        "id": "C5TMiBSBsOR3",
        "outputId": "74b5ddd7-596c-4c56-d822-99a868025324"
      },
      "execution_count": 26,
      "outputs": [
        {
          "output_type": "execute_result",
          "data": {
            "text/plain": [
              "'RBI'"
            ],
            "application/vnd.google.colaboratory.intrinsic+json": {
              "type": "string"
            }
          },
          "metadata": {},
          "execution_count": 26
        }
      ]
    },
    {
      "cell_type": "code",
      "source": [
        "ba1.bank_name"
      ],
      "metadata": {
        "colab": {
          "base_uri": "https://localhost:8080/",
          "height": 36
        },
        "id": "S_9mC_Wvu3uY",
        "outputId": "3fbb5012-23ed-4ad8-cece-8f917d0cd340"
      },
      "execution_count": 27,
      "outputs": [
        {
          "output_type": "execute_result",
          "data": {
            "text/plain": [
              "'LunchTime SBI'"
            ],
            "application/vnd.google.colaboratory.intrinsic+json": {
              "type": "string"
            }
          },
          "metadata": {},
          "execution_count": 27
        }
      ]
    },
    {
      "cell_type": "markdown",
      "source": [
        "### Another Application of Class Var"
      ],
      "metadata": {
        "id": "zBhmMQLwtNuA"
      }
    },
    {
      "cell_type": "code",
      "source": [
        "class BankAccount:\n",
        "    bank_name = \"SBI\"\n",
        "    __acc_id = 100 # private class var\n",
        "    def __init__(self, balance):\n",
        "        self.__acc_id = BankAccount.__acc_id # creating instance variable using class var\n",
        "        self.__balance = balance # private vars\n",
        "        BankAccount.__acc_id += 1\n",
        "\n",
        "\n",
        "    def credit(self, amount):\n",
        "        self.__balance += amount\n",
        "\n",
        "    def check_balance(self):\n",
        "        return self.__balance\n",
        "\n",
        "    def debit(self, amount):\n",
        "        pass\n",
        "\n",
        "    def reset_class_var(): # static methods\n",
        "        BankAccount.__acc_id  = 100\n",
        "\n",
        "    def reset_instance_var(self, val = 100):\n",
        "        self.__acc_id = val\n",
        "\n",
        "ba1 = BankAccount(10000)\n",
        "ba1.__dict__"
      ],
      "metadata": {
        "colab": {
          "base_uri": "https://localhost:8080/"
        },
        "id": "V4Y4kVSNsmJJ",
        "outputId": "027aebd8-3de2-4ab3-d674-e30540281833"
      },
      "execution_count": 28,
      "outputs": [
        {
          "output_type": "execute_result",
          "data": {
            "text/plain": [
              "{'_BankAccount__acc_id': 100, '_BankAccount__balance': 10000}"
            ]
          },
          "metadata": {},
          "execution_count": 28
        }
      ]
    },
    {
      "cell_type": "code",
      "source": [
        "ba2 = BankAccount(5000)\n",
        "ba2.__dict__"
      ],
      "metadata": {
        "colab": {
          "base_uri": "https://localhost:8080/"
        },
        "id": "E11hi_VetmWL",
        "outputId": "536b4902-3f7e-437c-c253-2e3c33345e00"
      },
      "execution_count": 29,
      "outputs": [
        {
          "output_type": "execute_result",
          "data": {
            "text/plain": [
              "{'_BankAccount__acc_id': 101, '_BankAccount__balance': 5000}"
            ]
          },
          "metadata": {},
          "execution_count": 29
        }
      ]
    },
    {
      "cell_type": "code",
      "source": [
        "BankAccount.reset_class_var()"
      ],
      "metadata": {
        "id": "-r9gxFzbt1m_"
      },
      "execution_count": 30,
      "outputs": []
    },
    {
      "cell_type": "code",
      "source": [
        "ba3 = BankAccount(5000)\n",
        "ba3.__dict__"
      ],
      "metadata": {
        "colab": {
          "base_uri": "https://localhost:8080/"
        },
        "id": "yGqMwE-ZuVQq",
        "outputId": "860aeef1-af45-4572-a088-989ff0a82085"
      },
      "execution_count": 31,
      "outputs": [
        {
          "output_type": "execute_result",
          "data": {
            "text/plain": [
              "{'_BankAccount__acc_id': 100, '_BankAccount__balance': 5000}"
            ]
          },
          "metadata": {},
          "execution_count": 31
        }
      ]
    },
    {
      "cell_type": "code",
      "source": [
        "ba2.__dict__"
      ],
      "metadata": {
        "colab": {
          "base_uri": "https://localhost:8080/"
        },
        "id": "M6vrjwEyuXVX",
        "outputId": "a315b87f-4260-45b9-bddb-f81c82d9af4d"
      },
      "execution_count": 32,
      "outputs": [
        {
          "output_type": "execute_result",
          "data": {
            "text/plain": [
              "{'_BankAccount__acc_id': 101, '_BankAccount__balance': 5000}"
            ]
          },
          "metadata": {},
          "execution_count": 32
        }
      ]
    },
    {
      "cell_type": "code",
      "source": [
        "class A:\n",
        "    var1 = \"Hi\"\n",
        "\n",
        "A.var1"
      ],
      "metadata": {
        "colab": {
          "base_uri": "https://localhost:8080/",
          "height": 36
        },
        "id": "tmBiK7Z3ukbk",
        "outputId": "a9decc38-0974-40b1-daf0-99fc3161a946"
      },
      "execution_count": 33,
      "outputs": [
        {
          "output_type": "execute_result",
          "data": {
            "text/plain": [
              "'Hi'"
            ],
            "application/vnd.google.colaboratory.intrinsic+json": {
              "type": "string"
            }
          },
          "metadata": {},
          "execution_count": 33
        }
      ]
    },
    {
      "cell_type": "markdown",
      "source": [
        "## Note: private class variables are not Inherited"
      ],
      "metadata": {
        "id": "MkJ-98mjvxRe"
      }
    },
    {
      "cell_type": "markdown",
      "source": [
        "## dataclass: frozen dataclass"
      ],
      "metadata": {
        "id": "etMBYd_ewRZJ"
      }
    },
    {
      "cell_type": "markdown",
      "source": [
        "## Inheritance:"
      ],
      "metadata": {
        "id": "eWqXr3rMwmOb"
      }
    },
    {
      "cell_type": "code",
      "source": [
        "class Parent:\n",
        "    var1 = \"ClassVarOfParent\"\n",
        "    __pri__var = \"PrivateClassVarOfParent\"\n",
        "    def __init__(self):\n",
        "        print(\"Creating Instance of Parent Class\")\n",
        "\n",
        "    def parentMethod(self):\n",
        "        print(\"Hello From Parent Method\")\n",
        "\n",
        "    def __parentMethodPrivate(self):\n",
        "        print(\"Hello From Private Parent Method\")\n",
        "\n",
        "\n",
        "class Child(Parent):\n",
        "    var2 = \"ClassVarOfChild\"\n",
        "    __pri_var2 = \"PrivateClassVarOfChild\"\n",
        "    def __init__(self):\n",
        "        print(\"Creating Instance of Child Class\")\n",
        "\n",
        "    def method(self):\n",
        "        print(self.var2) # public class var from child\n",
        "        print(self.var1) # public class var from parent\n",
        "        print(self.__pri_var2) # private class var from Child\n",
        "        print(self.__pri__var) # private class var from Parent"
      ],
      "metadata": {
        "id": "bPxbhcBGvp7B"
      },
      "execution_count": 52,
      "outputs": []
    },
    {
      "cell_type": "code",
      "source": [
        "p1 = Parent()"
      ],
      "metadata": {
        "colab": {
          "base_uri": "https://localhost:8080/"
        },
        "id": "TwZmOcfNzaXh",
        "outputId": "499bc153-eb37-431b-8c69-54a6174c2540"
      },
      "execution_count": 53,
      "outputs": [
        {
          "output_type": "stream",
          "name": "stdout",
          "text": [
            "Creating Instance of Parent Class\n"
          ]
        }
      ]
    },
    {
      "cell_type": "code",
      "source": [
        "c1 = Child()"
      ],
      "metadata": {
        "colab": {
          "base_uri": "https://localhost:8080/"
        },
        "id": "AjkJvuwYz2_I",
        "outputId": "5ce0708a-5335-4950-dff2-6600cc582115"
      },
      "execution_count": 54,
      "outputs": [
        {
          "output_type": "stream",
          "name": "stdout",
          "text": [
            "Creating Instance of Child Class\n"
          ]
        }
      ]
    },
    {
      "cell_type": "code",
      "source": [
        "c1.var2"
      ],
      "metadata": {
        "colab": {
          "base_uri": "https://localhost:8080/",
          "height": 36
        },
        "id": "enz6MbGKz6vH",
        "outputId": "de5b98cc-f5f2-40bd-d7cb-96f135b7e043"
      },
      "execution_count": 55,
      "outputs": [
        {
          "output_type": "execute_result",
          "data": {
            "text/plain": [
              "'ClassVarOfChild'"
            ],
            "application/vnd.google.colaboratory.intrinsic+json": {
              "type": "string"
            }
          },
          "metadata": {},
          "execution_count": 55
        }
      ]
    },
    {
      "cell_type": "code",
      "source": [
        "c1.var1"
      ],
      "metadata": {
        "colab": {
          "base_uri": "https://localhost:8080/",
          "height": 36
        },
        "id": "ybZ6YOlvz-wd",
        "outputId": "961144b8-d35b-4742-cb3a-05b229b782aa"
      },
      "execution_count": 56,
      "outputs": [
        {
          "output_type": "execute_result",
          "data": {
            "text/plain": [
              "'ClassVarOfParent'"
            ],
            "application/vnd.google.colaboratory.intrinsic+json": {
              "type": "string"
            }
          },
          "metadata": {},
          "execution_count": 56
        }
      ]
    },
    {
      "cell_type": "code",
      "source": [
        "p1._Parent__pri__var"
      ],
      "metadata": {
        "colab": {
          "base_uri": "https://localhost:8080/",
          "height": 36
        },
        "id": "a7vSmd120D4X",
        "outputId": "8061a4b3-53d9-42d4-c21c-f209b7d68cda"
      },
      "execution_count": 57,
      "outputs": [
        {
          "output_type": "execute_result",
          "data": {
            "text/plain": [
              "'PrivateClassVarOfParent'"
            ],
            "application/vnd.google.colaboratory.intrinsic+json": {
              "type": "string"
            }
          },
          "metadata": {},
          "execution_count": 57
        }
      ]
    },
    {
      "cell_type": "code",
      "source": [
        "c1._Parent__pri__var"
      ],
      "metadata": {
        "colab": {
          "base_uri": "https://localhost:8080/",
          "height": 36
        },
        "id": "kfESvyTn0eOA",
        "outputId": "ca2bd1aa-09f9-4958-c3e3-4b75f6583bf8"
      },
      "execution_count": 58,
      "outputs": [
        {
          "output_type": "execute_result",
          "data": {
            "text/plain": [
              "'PrivateClassVarOfParent'"
            ],
            "application/vnd.google.colaboratory.intrinsic+json": {
              "type": "string"
            }
          },
          "metadata": {},
          "execution_count": 58
        }
      ]
    },
    {
      "cell_type": "code",
      "source": [
        "c1.method()"
      ],
      "metadata": {
        "colab": {
          "base_uri": "https://localhost:8080/",
          "height": 269
        },
        "id": "ERF8lG670i00",
        "outputId": "19bc9aad-0863-4425-f788-5e5ce8d34ead"
      },
      "execution_count": 59,
      "outputs": [
        {
          "output_type": "stream",
          "name": "stdout",
          "text": [
            "ClassVarOfChild\n",
            "ClassVarOfParent\n",
            "PrivateClassVarOfChild\n"
          ]
        },
        {
          "output_type": "error",
          "ename": "AttributeError",
          "evalue": "'Child' object has no attribute '_Child__pri__var'",
          "traceback": [
            "\u001b[0;31m---------------------------------------------------------------------------\u001b[0m",
            "\u001b[0;31mAttributeError\u001b[0m                            Traceback (most recent call last)",
            "\u001b[0;32m<ipython-input-59-eda54d8bbb86>\u001b[0m in \u001b[0;36m<cell line: 1>\u001b[0;34m()\u001b[0m\n\u001b[0;32m----> 1\u001b[0;31m \u001b[0mc1\u001b[0m\u001b[0;34m.\u001b[0m\u001b[0mmethod\u001b[0m\u001b[0;34m(\u001b[0m\u001b[0;34m)\u001b[0m\u001b[0;34m\u001b[0m\u001b[0;34m\u001b[0m\u001b[0m\n\u001b[0m",
            "\u001b[0;32m<ipython-input-52-6f243eedd9e3>\u001b[0m in \u001b[0;36mmethod\u001b[0;34m(self)\u001b[0m\n\u001b[1;32m     22\u001b[0m         \u001b[0mprint\u001b[0m\u001b[0;34m(\u001b[0m\u001b[0mself\u001b[0m\u001b[0;34m.\u001b[0m\u001b[0mvar1\u001b[0m\u001b[0;34m)\u001b[0m \u001b[0;31m# public class var from parent\u001b[0m\u001b[0;34m\u001b[0m\u001b[0;34m\u001b[0m\u001b[0m\n\u001b[1;32m     23\u001b[0m         \u001b[0mprint\u001b[0m\u001b[0;34m(\u001b[0m\u001b[0mself\u001b[0m\u001b[0;34m.\u001b[0m\u001b[0m__pri_var2\u001b[0m\u001b[0;34m)\u001b[0m \u001b[0;31m# private class var from Child\u001b[0m\u001b[0;34m\u001b[0m\u001b[0;34m\u001b[0m\u001b[0m\n\u001b[0;32m---> 24\u001b[0;31m         \u001b[0mprint\u001b[0m\u001b[0;34m(\u001b[0m\u001b[0mself\u001b[0m\u001b[0;34m.\u001b[0m\u001b[0m__pri__var\u001b[0m\u001b[0;34m)\u001b[0m \u001b[0;31m# private class var from Parent\u001b[0m\u001b[0;34m\u001b[0m\u001b[0;34m\u001b[0m\u001b[0m\n\u001b[0m",
            "\u001b[0;31mAttributeError\u001b[0m: 'Child' object has no attribute '_Child__pri__var'"
          ]
        }
      ]
    },
    {
      "cell_type": "code",
      "source": [
        "class Parent:\n",
        "    var1 = \"ClassVarOfParent\"\n",
        "    __pri__var = \"PrivateClassVarOfParent\"\n",
        "    def __init__(self):\n",
        "        print(\"Creating Instance of Parent Class\")\n",
        "\n",
        "    def parentMethod(self):\n",
        "        print(\"Hello From Parent Method\")\n",
        "\n",
        "    def __parentMethodPrivate(self):\n",
        "        print(\"Hello From Private Parent Method\")\n",
        "\n",
        "\n",
        "class Child(Parent):\n",
        "    var2 = \"ClassVarOfChild\"\n",
        "    __pri_var2 = \"PrivateClassVarOfChild\"\n",
        "\n",
        "    def __init__(self):\n",
        "        print(\"Creating Instance of Child Class\")"
      ],
      "metadata": {
        "id": "kymhmUCw1___"
      },
      "execution_count": 60,
      "outputs": []
    },
    {
      "cell_type": "code",
      "source": [
        "c1 = Child()"
      ],
      "metadata": {
        "colab": {
          "base_uri": "https://localhost:8080/"
        },
        "id": "bGizdlZi1YPQ",
        "outputId": "9691c27c-c6dc-4cb2-cb21-14365ea09213"
      },
      "execution_count": 62,
      "outputs": [
        {
          "output_type": "stream",
          "name": "stdout",
          "text": [
            "Creating Instance of Child Class\n"
          ]
        }
      ]
    },
    {
      "cell_type": "code",
      "source": [
        "c1.parentMethod()"
      ],
      "metadata": {
        "colab": {
          "base_uri": "https://localhost:8080/"
        },
        "id": "ZhWgiQYu2Dm-",
        "outputId": "5359b896-525d-4531-b9ca-f3a5b4a05b0d"
      },
      "execution_count": 63,
      "outputs": [
        {
          "output_type": "stream",
          "name": "stdout",
          "text": [
            "Hello From Parent Method\n"
          ]
        }
      ]
    },
    {
      "cell_type": "code",
      "source": [
        "c1.__parentMethodPrivate()"
      ],
      "metadata": {
        "colab": {
          "base_uri": "https://localhost:8080/",
          "height": 137
        },
        "id": "lPGODTAg2J3e",
        "outputId": "b1209578-41da-404d-8b37-7a754b5045a2"
      },
      "execution_count": 64,
      "outputs": [
        {
          "output_type": "error",
          "ename": "AttributeError",
          "evalue": "'Child' object has no attribute '__parentMethodPrivate'",
          "traceback": [
            "\u001b[0;31m---------------------------------------------------------------------------\u001b[0m",
            "\u001b[0;31mAttributeError\u001b[0m                            Traceback (most recent call last)",
            "\u001b[0;32m<ipython-input-64-d9188e81e7dc>\u001b[0m in \u001b[0;36m<cell line: 1>\u001b[0;34m()\u001b[0m\n\u001b[0;32m----> 1\u001b[0;31m \u001b[0mc1\u001b[0m\u001b[0;34m.\u001b[0m\u001b[0m__parentMethodPrivate\u001b[0m\u001b[0;34m(\u001b[0m\u001b[0;34m)\u001b[0m\u001b[0;34m\u001b[0m\u001b[0;34m\u001b[0m\u001b[0m\n\u001b[0m",
            "\u001b[0;31mAttributeError\u001b[0m: 'Child' object has no attribute '__parentMethodPrivate'"
          ]
        }
      ]
    },
    {
      "cell_type": "code",
      "source": [
        "class A:\n",
        "    def method1(self):\n",
        "        print(\"Parent Method 1\")\n",
        "\n",
        "class B(A):\n",
        "    def method1(self):\n",
        "        print(\"Child Method 1\")\n",
        "\n",
        "b1 = B()\n",
        "b1.method1()"
      ],
      "metadata": {
        "colab": {
          "base_uri": "https://localhost:8080/"
        },
        "id": "LROixje22OGE",
        "outputId": "bdeac531-f7f6-4c97-c825-0e231964c166"
      },
      "execution_count": 65,
      "outputs": [
        {
          "output_type": "stream",
          "name": "stdout",
          "text": [
            "Child Method 1\n"
          ]
        }
      ]
    },
    {
      "cell_type": "code",
      "source": [
        "B.__mro__"
      ],
      "metadata": {
        "colab": {
          "base_uri": "https://localhost:8080/"
        },
        "id": "E4SjxFgH2mk2",
        "outputId": "88353f6a-ba18-4570-c68f-1964033bc45d"
      },
      "execution_count": 68,
      "outputs": [
        {
          "output_type": "execute_result",
          "data": {
            "text/plain": [
              "(__main__.B, __main__.A, object)"
            ]
          },
          "metadata": {},
          "execution_count": 68
        }
      ]
    },
    {
      "cell_type": "code",
      "source": [
        "A.__mro__"
      ],
      "metadata": {
        "colab": {
          "base_uri": "https://localhost:8080/"
        },
        "id": "2MniIKiO2pOA",
        "outputId": "a8786bda-3229-42f9-b1fd-5b0ac2e57bbf"
      },
      "execution_count": 69,
      "outputs": [
        {
          "output_type": "execute_result",
          "data": {
            "text/plain": [
              "(__main__.A, object)"
            ]
          },
          "metadata": {},
          "execution_count": 69
        }
      ]
    },
    {
      "cell_type": "code",
      "source": [
        "dir(A)"
      ],
      "metadata": {
        "colab": {
          "base_uri": "https://localhost:8080/"
        },
        "id": "5PyMoK_s29pR",
        "outputId": "2494f319-fad7-4992-cf44-932301017ad1"
      },
      "execution_count": 70,
      "outputs": [
        {
          "output_type": "execute_result",
          "data": {
            "text/plain": [
              "['__class__',\n",
              " '__delattr__',\n",
              " '__dict__',\n",
              " '__dir__',\n",
              " '__doc__',\n",
              " '__eq__',\n",
              " '__format__',\n",
              " '__ge__',\n",
              " '__getattribute__',\n",
              " '__gt__',\n",
              " '__hash__',\n",
              " '__init__',\n",
              " '__init_subclass__',\n",
              " '__le__',\n",
              " '__lt__',\n",
              " '__module__',\n",
              " '__ne__',\n",
              " '__new__',\n",
              " '__reduce__',\n",
              " '__reduce_ex__',\n",
              " '__repr__',\n",
              " '__setattr__',\n",
              " '__sizeof__',\n",
              " '__str__',\n",
              " '__subclasshook__',\n",
              " '__weakref__',\n",
              " 'method1']"
            ]
          },
          "metadata": {},
          "execution_count": 70
        }
      ]
    },
    {
      "cell_type": "code",
      "source": [
        "class A(object):\n",
        "    pass\n",
        "\n",
        "\n",
        "class A:\n",
        "    pass\n",
        "\n",
        "# these are exact same things"
      ],
      "metadata": {
        "id": "fVIxoiy53YN5"
      },
      "execution_count": 71,
      "outputs": []
    },
    {
      "cell_type": "code",
      "source": [
        "class A:\n",
        "    pass\n",
        "\n",
        "a1 = A()\n",
        "print(a1)"
      ],
      "metadata": {
        "colab": {
          "base_uri": "https://localhost:8080/"
        },
        "id": "xY_OXZFF3nvq",
        "outputId": "0e596a33-e63f-4ae1-baa1-fb130892a27d"
      },
      "execution_count": 75,
      "outputs": [
        {
          "output_type": "stream",
          "name": "stdout",
          "text": [
            "<__main__.A object at 0x7fda8bac7130>\n"
          ]
        }
      ]
    },
    {
      "cell_type": "code",
      "source": [
        "dir(a1)"
      ],
      "metadata": {
        "colab": {
          "base_uri": "https://localhost:8080/"
        },
        "id": "Jaa_WyQ_5dp2",
        "outputId": "c7594066-596a-4e42-eb6a-c733c84dcd42"
      },
      "execution_count": 77,
      "outputs": [
        {
          "output_type": "execute_result",
          "data": {
            "text/plain": [
              "['__class__',\n",
              " '__delattr__',\n",
              " '__dict__',\n",
              " '__dir__',\n",
              " '__doc__',\n",
              " '__eq__',\n",
              " '__format__',\n",
              " '__ge__',\n",
              " '__getattribute__',\n",
              " '__gt__',\n",
              " '__hash__',\n",
              " '__init__',\n",
              " '__init_subclass__',\n",
              " '__le__',\n",
              " '__lt__',\n",
              " '__module__',\n",
              " '__ne__',\n",
              " '__new__',\n",
              " '__reduce__',\n",
              " '__reduce_ex__',\n",
              " '__repr__',\n",
              " '__setattr__',\n",
              " '__sizeof__',\n",
              " '__str__',\n",
              " '__subclasshook__',\n",
              " '__weakref__']"
            ]
          },
          "metadata": {},
          "execution_count": 77
        }
      ]
    },
    {
      "cell_type": "code",
      "source": [
        "class A:\n",
        "    def __str__(self):\n",
        "        return \"I am an object of Class A\"\n",
        "\n",
        "a1 = A()\n",
        "print(a1) # print calls __str__"
      ],
      "metadata": {
        "colab": {
          "base_uri": "https://localhost:8080/"
        },
        "id": "3WUmdypX5hIM",
        "outputId": "c2fdec97-9ca9-41af-990a-db3f1bacc651"
      },
      "execution_count": 79,
      "outputs": [
        {
          "output_type": "stream",
          "name": "stdout",
          "text": [
            "I am an object of Class A\n"
          ]
        }
      ]
    },
    {
      "cell_type": "code",
      "source": [
        "class BankAccount:\n",
        "    def __init__(self, acc_id, balance):\n",
        "        self.__acc_id = acc_id # private vars\n",
        "        self.__balance = balance # private vars\n",
        "        self.bank_name = \"SBI\" # public\n",
        "\n",
        "    def credit(self, amount):\n",
        "        self.__balance += amount\n",
        "\n",
        "    def check_balance(self):\n",
        "        return self.__balance\n",
        "\n",
        "    def debit(self, amount):\n",
        "        pass\n",
        "\n",
        "ba1 = BankAccount(101, 5000)\n",
        "ba2 = BankAccount(102, 10000)"
      ],
      "metadata": {
        "id": "SWlsYO6L6COs"
      },
      "execution_count": 81,
      "outputs": []
    },
    {
      "cell_type": "code",
      "source": [
        "b1 < ba2"
      ],
      "metadata": {
        "colab": {
          "base_uri": "https://localhost:8080/",
          "height": 137
        },
        "id": "ROJ_Wglr6xDF",
        "outputId": "3726493b-d642-4b55-f7dd-afa8d6b3505c"
      },
      "execution_count": 82,
      "outputs": [
        {
          "output_type": "error",
          "ename": "TypeError",
          "evalue": "'<' not supported between instances of 'B' and 'BankAccount'",
          "traceback": [
            "\u001b[0;31m---------------------------------------------------------------------------\u001b[0m",
            "\u001b[0;31mTypeError\u001b[0m                                 Traceback (most recent call last)",
            "\u001b[0;32m<ipython-input-82-58d3afa965c1>\u001b[0m in \u001b[0;36m<cell line: 1>\u001b[0;34m()\u001b[0m\n\u001b[0;32m----> 1\u001b[0;31m \u001b[0mb1\u001b[0m \u001b[0;34m<\u001b[0m \u001b[0mba2\u001b[0m\u001b[0;34m\u001b[0m\u001b[0;34m\u001b[0m\u001b[0m\n\u001b[0m",
            "\u001b[0;31mTypeError\u001b[0m: '<' not supported between instances of 'B' and 'BankAccount'"
          ]
        }
      ]
    },
    {
      "cell_type": "code",
      "source": [
        "class BankAccount:\n",
        "    def __init__(self, acc_id, balance):\n",
        "        self.__acc_id = acc_id # private vars\n",
        "        self.balance = balance # private vars\n",
        "        self.bank_name = \"SBI\" # public\n",
        "\n",
        "    def credit(self, amount):\n",
        "        self.__balance += amount\n",
        "\n",
        "    def check_balance(self):\n",
        "        return self.__balance\n",
        "\n",
        "    def debit(self, amount):\n",
        "        pass\n",
        "\n",
        "    def __lt__(lhs, rhs):\n",
        "        return lhs.balance < rhs.balance\n",
        "\n",
        "ba1 = BankAccount(101, 5000)\n",
        "ba2 = BankAccount(102, 10000)"
      ],
      "metadata": {
        "id": "B7eM9Ucc62qq"
      },
      "execution_count": 84,
      "outputs": []
    },
    {
      "cell_type": "code",
      "source": [
        "ba1 < ba2"
      ],
      "metadata": {
        "colab": {
          "base_uri": "https://localhost:8080/"
        },
        "id": "YjvnOG_O69uI",
        "outputId": "338f091e-3d7a-4c5b-fffe-1d8db0e7afb2"
      },
      "execution_count": 85,
      "outputs": [
        {
          "output_type": "execute_result",
          "data": {
            "text/plain": [
              "True"
            ]
          },
          "metadata": {},
          "execution_count": 85
        }
      ]
    },
    {
      "cell_type": "markdown",
      "source": [
        "`__method__` = \"Dunder Methods or Magic Methods\"\n",
        "\n",
        "\n",
        "Read about following dunder method:\n",
        "- `__add__`\n",
        "- `__gt__`\n",
        "- `__eq__`\n",
        "- `__repr__`\n",
        "- `__del__`\n",
        "- `__new__`\n"
      ],
      "metadata": {
        "id": "WceInVMw71bu"
      }
    },
    {
      "cell_type": "code",
      "source": [
        "class ScalerMember:\n",
        "    academy_name = \"Scaler Academy\"\n",
        "    org_id = \"InterviewBit\"\n",
        "\n",
        "    def __init__(self, name, email):\n",
        "        self.name = name\n",
        "        self.email = email\n",
        "\n",
        "\n",
        "class Student(ScalerMember):\n",
        "    def __init__(self, name, email, course):\n",
        "        # Method1: using parent class:\n",
        "        # ScalerMember.__init__(self, name, email) # note: passing self\n",
        "\n",
        "        # method2: Using Super\n",
        "        super().__init__(name, email) # no need of self in super\n",
        "        self.course = course\n",
        "\n",
        "\n",
        "class StaffTeam(ScalerMember):\n",
        "    def __init__(self, name, email, course):\n",
        "        # Method1: using parent class:\n",
        "        ScalerMember.__init__(self, name, email) # note: passing self\n",
        "        self.course = course\n",
        "\n",
        "\n",
        "class Instructor(StaffTeam):\n",
        "    def __init__(self, name, email, course):\n",
        "        # Method1: using parent class:\n",
        "        # ScalerMember.__init__(self, name, email) # note: passing self\n",
        "        super().__init__(name, email) # immediate parent: staff team\n",
        "        self.course = course\n",
        "\n",
        "\n",
        "class HR(StaffTeam):\n",
        "    pass\n",
        "\n",
        "\n",
        "\n",
        "s1 = Student(\"Shin Chan\", \"Shin@gmail.com\", \"DSML\")\n",
        "s1"
      ],
      "metadata": {
        "colab": {
          "base_uri": "https://localhost:8080/"
        },
        "id": "Rgkl4N9M7gzr",
        "outputId": "e0628bf2-0e14-401e-83ac-b48b24fb9194"
      },
      "execution_count": 97,
      "outputs": [
        {
          "output_type": "execute_result",
          "data": {
            "text/plain": [
              "<__main__.Student at 0x7fda8bb2d480>"
            ]
          },
          "metadata": {},
          "execution_count": 97
        }
      ]
    },
    {
      "cell_type": "code",
      "source": [
        "s1.academy_name"
      ],
      "metadata": {
        "colab": {
          "base_uri": "https://localhost:8080/",
          "height": 36
        },
        "id": "JpUSVGBj9E7i",
        "outputId": "8b4aace9-79d8-466d-e3a5-2f53c643cca6"
      },
      "execution_count": 98,
      "outputs": [
        {
          "output_type": "execute_result",
          "data": {
            "text/plain": [
              "'Scaler Academy'"
            ],
            "application/vnd.google.colaboratory.intrinsic+json": {
              "type": "string"
            }
          },
          "metadata": {},
          "execution_count": 98
        }
      ]
    },
    {
      "cell_type": "code",
      "source": [
        "s1.course"
      ],
      "metadata": {
        "colab": {
          "base_uri": "https://localhost:8080/",
          "height": 36
        },
        "id": "lgOZ0SV6-PLS",
        "outputId": "227e296b-a8c9-475f-e0c6-984acbcc377c"
      },
      "execution_count": 99,
      "outputs": [
        {
          "output_type": "execute_result",
          "data": {
            "text/plain": [
              "'DSML'"
            ],
            "application/vnd.google.colaboratory.intrinsic+json": {
              "type": "string"
            }
          },
          "metadata": {},
          "execution_count": 99
        }
      ]
    },
    {
      "cell_type": "code",
      "source": [
        "s1.name"
      ],
      "metadata": {
        "colab": {
          "base_uri": "https://localhost:8080/",
          "height": 36
        },
        "id": "SUPgpoyQ-TFl",
        "outputId": "bd6bb925-15ee-4b41-95b1-ce3959c903d0"
      },
      "execution_count": 100,
      "outputs": [
        {
          "output_type": "execute_result",
          "data": {
            "text/plain": [
              "'Shin Chan'"
            ],
            "application/vnd.google.colaboratory.intrinsic+json": {
              "type": "string"
            }
          },
          "metadata": {},
          "execution_count": 100
        }
      ]
    },
    {
      "cell_type": "code",
      "source": [
        "s1.email"
      ],
      "metadata": {
        "colab": {
          "base_uri": "https://localhost:8080/",
          "height": 36
        },
        "id": "n9rd4KDo-X1a",
        "outputId": "427c80b2-b31d-4f85-c267-282e27a8f380"
      },
      "execution_count": 101,
      "outputs": [
        {
          "output_type": "execute_result",
          "data": {
            "text/plain": [
              "'Shin@gmail.com'"
            ],
            "application/vnd.google.colaboratory.intrinsic+json": {
              "type": "string"
            }
          },
          "metadata": {},
          "execution_count": 101
        }
      ]
    },
    {
      "cell_type": "markdown",
      "source": [
        "### MRO"
      ],
      "metadata": {
        "id": "HrxmbXVw__On"
      }
    },
    {
      "cell_type": "code",
      "source": [
        "class A:\n",
        "    pass\n",
        "\n",
        "class B(A):\n",
        "    pass\n",
        "\n",
        "class C(B):\n",
        "    pass\n",
        "\n",
        "C.__mro__"
      ],
      "metadata": {
        "colab": {
          "base_uri": "https://localhost:8080/"
        },
        "id": "nYxwr4Pu_YwN",
        "outputId": "380facef-415c-47c6-f14f-2798aabf80e9"
      },
      "execution_count": 103,
      "outputs": [
        {
          "output_type": "execute_result",
          "data": {
            "text/plain": [
              "(__main__.C, __main__.B, __main__.A, object)"
            ]
          },
          "metadata": {},
          "execution_count": 103
        }
      ]
    },
    {
      "cell_type": "code",
      "source": [
        "class A:\n",
        "    pass\n",
        "\n",
        "class B:\n",
        "    pass\n",
        "\n",
        "class C(A, B):\n",
        "    pass\n",
        "\n",
        "\n",
        "C.__mro__"
      ],
      "metadata": {
        "id": "d5LGyAKLAkWe"
      },
      "execution_count": null,
      "outputs": []
    },
    {
      "cell_type": "code",
      "source": [
        "class A:\n",
        "    print(\"Am I a class?\")\n",
        "\n",
        "A() # obj1\n",
        "\n",
        "obj1 = A() # obj2\n",
        "\n",
        "if A(): # obj3\n",
        "    print(A()) # obj4"
      ],
      "metadata": {
        "colab": {
          "base_uri": "https://localhost:8080/"
        },
        "id": "bWYA_o4JCu8P",
        "outputId": "fb3d2001-f39f-4288-f7ce-f982ab8cd41f"
      },
      "execution_count": 104,
      "outputs": [
        {
          "output_type": "stream",
          "name": "stdout",
          "text": [
            "Am I a class?\n",
            "<__main__.A object at 0x7fda8bac7af0>\n"
          ]
        }
      ]
    },
    {
      "cell_type": "code",
      "source": [
        "class A:\n",
        "    def __init__(self):\n",
        "        print(\"Am I a class?\")\n",
        "\n",
        "A() # obj1\n",
        "\n",
        "obj1 = A() # obj2\n",
        "\n",
        "if A(): # obj3\n",
        "    print(A()) # obj4"
      ],
      "metadata": {
        "colab": {
          "base_uri": "https://localhost:8080/"
        },
        "id": "QG85hFAhC5HQ",
        "outputId": "d90a265e-c897-404a-c07f-479060923ffc"
      },
      "execution_count": 105,
      "outputs": [
        {
          "output_type": "stream",
          "name": "stdout",
          "text": [
            "Am I a class?\n",
            "Am I a class?\n",
            "Am I a class?\n",
            "Am I a class?\n",
            "<__main__.A object at 0x7fda8bac6e00>\n"
          ]
        }
      ]
    },
    {
      "cell_type": "markdown",
      "source": [
        "![image.png](data:image/png;base64,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)"
      ],
      "metadata": {
        "id": "oT104b8BDtt8"
      }
    },
    {
      "cell_type": "code",
      "source": [
        "class A:\n",
        "    pass\n",
        "\n",
        "a = A()"
      ],
      "metadata": {
        "id": "l-ixG31vDX2z"
      },
      "execution_count": 107,
      "outputs": []
    },
    {
      "cell_type": "code",
      "source": [
        "class A:\n",
        "    def __init__(self, name):\n",
        "        self.name = name\n",
        "\n",
        "a1 = A(\"Bunty\")\n",
        "a2 = A(\"Babli\")\n",
        "\n",
        "print(id(a1) == id(a2))"
      ],
      "metadata": {
        "colab": {
          "base_uri": "https://localhost:8080/"
        },
        "id": "n11OiQIiD4lD",
        "outputId": "75ef67b4-c0d3-4839-eac8-a04122b016b1"
      },
      "execution_count": 108,
      "outputs": [
        {
          "output_type": "stream",
          "name": "stdout",
          "text": [
            "False\n"
          ]
        }
      ]
    },
    {
      "cell_type": "code",
      "source": [
        "class Counter:\n",
        "    def __init__(self):\n",
        "        self.count = 5\n",
        "        self.count = count+1\n",
        "\n",
        "c = Counter()\n",
        "print(c.count)"
      ],
      "metadata": {
        "colab": {
          "base_uri": "https://localhost:8080/",
          "height": 302
        },
        "id": "sSJr7Eh8ENlC",
        "outputId": "ae9eb80a-c39d-476a-e5eb-c1d66ede9c0e"
      },
      "execution_count": 111,
      "outputs": [
        {
          "output_type": "error",
          "ename": "NameError",
          "evalue": "name 'count' is not defined",
          "traceback": [
            "\u001b[0;31m---------------------------------------------------------------------------\u001b[0m",
            "\u001b[0;31mNameError\u001b[0m                                 Traceback (most recent call last)",
            "\u001b[0;32m<ipython-input-111-bb73ed520c17>\u001b[0m in \u001b[0;36m<cell line: 6>\u001b[0;34m()\u001b[0m\n\u001b[1;32m      4\u001b[0m         \u001b[0mself\u001b[0m\u001b[0;34m.\u001b[0m\u001b[0mcount\u001b[0m \u001b[0;34m=\u001b[0m \u001b[0mcount\u001b[0m\u001b[0;34m+\u001b[0m\u001b[0;36m1\u001b[0m\u001b[0;34m\u001b[0m\u001b[0;34m\u001b[0m\u001b[0m\n\u001b[1;32m      5\u001b[0m \u001b[0;34m\u001b[0m\u001b[0m\n\u001b[0;32m----> 6\u001b[0;31m \u001b[0mc\u001b[0m \u001b[0;34m=\u001b[0m \u001b[0mCounter\u001b[0m\u001b[0;34m(\u001b[0m\u001b[0;34m)\u001b[0m\u001b[0;34m\u001b[0m\u001b[0;34m\u001b[0m\u001b[0m\n\u001b[0m\u001b[1;32m      7\u001b[0m \u001b[0mprint\u001b[0m\u001b[0;34m(\u001b[0m\u001b[0mc\u001b[0m\u001b[0;34m.\u001b[0m\u001b[0mcount\u001b[0m\u001b[0;34m)\u001b[0m\u001b[0;34m\u001b[0m\u001b[0;34m\u001b[0m\u001b[0m\n",
            "\u001b[0;32m<ipython-input-111-bb73ed520c17>\u001b[0m in \u001b[0;36m__init__\u001b[0;34m(self)\u001b[0m\n\u001b[1;32m      2\u001b[0m     \u001b[0;32mdef\u001b[0m \u001b[0m__init__\u001b[0m\u001b[0;34m(\u001b[0m\u001b[0mself\u001b[0m\u001b[0;34m)\u001b[0m\u001b[0;34m:\u001b[0m\u001b[0;34m\u001b[0m\u001b[0;34m\u001b[0m\u001b[0m\n\u001b[1;32m      3\u001b[0m         \u001b[0mself\u001b[0m\u001b[0;34m.\u001b[0m\u001b[0mcount\u001b[0m \u001b[0;34m=\u001b[0m \u001b[0;36m5\u001b[0m\u001b[0;34m\u001b[0m\u001b[0;34m\u001b[0m\u001b[0m\n\u001b[0;32m----> 4\u001b[0;31m         \u001b[0mself\u001b[0m\u001b[0;34m.\u001b[0m\u001b[0mcount\u001b[0m \u001b[0;34m=\u001b[0m \u001b[0mcount\u001b[0m\u001b[0;34m+\u001b[0m\u001b[0;36m1\u001b[0m\u001b[0;34m\u001b[0m\u001b[0;34m\u001b[0m\u001b[0m\n\u001b[0m\u001b[1;32m      5\u001b[0m \u001b[0;34m\u001b[0m\u001b[0m\n\u001b[1;32m      6\u001b[0m \u001b[0mc\u001b[0m \u001b[0;34m=\u001b[0m \u001b[0mCounter\u001b[0m\u001b[0;34m(\u001b[0m\u001b[0;34m)\u001b[0m\u001b[0;34m\u001b[0m\u001b[0;34m\u001b[0m\u001b[0m\n",
            "\u001b[0;31mNameError\u001b[0m: name 'count' is not defined"
          ]
        }
      ]
    },
    {
      "cell_type": "code",
      "source": [
        "class Counter:\n",
        "    def __init__(self, count):\n",
        "        self.count = 5\n",
        "        self.count = count+1\n",
        "\n",
        "c = Counter(10)\n",
        "print(c.count)"
      ],
      "metadata": {
        "colab": {
          "base_uri": "https://localhost:8080/"
        },
        "id": "OYJuWP8IJ24m",
        "outputId": "67dfa247-acd8-40d6-e936-e52ec3830fb3"
      },
      "execution_count": 124,
      "outputs": [
        {
          "output_type": "stream",
          "name": "stdout",
          "text": [
            "11\n"
          ]
        }
      ]
    },
    {
      "cell_type": "code",
      "source": [
        "class Counter:\n",
        "    def __init__(self):\n",
        "        self.count = 5\n",
        "        self.count = self.count+1\n",
        "\n",
        "c = Counter()\n",
        "print(c.count)"
      ],
      "metadata": {
        "colab": {
          "base_uri": "https://localhost:8080/"
        },
        "id": "7aMDR2AOEmmX",
        "outputId": "a8097497-ad3e-4564-df8c-78f202ded81d"
      },
      "execution_count": 112,
      "outputs": [
        {
          "output_type": "stream",
          "name": "stdout",
          "text": [
            "6\n"
          ]
        }
      ]
    },
    {
      "cell_type": "code",
      "source": [
        "class Random:\n",
        "    def __init__(self, a = \"Is it possible?\"):\n",
        "        self.a = a\n",
        "\n",
        "    def display(self):\n",
        "        print(self.a)\n",
        "\n",
        "r = Random()\n",
        "r.display()"
      ],
      "metadata": {
        "colab": {
          "base_uri": "https://localhost:8080/"
        },
        "id": "RZFd3gmtEuFK",
        "outputId": "2a2112ac-11b9-4506-f5b1-f1f75d118436"
      },
      "execution_count": 113,
      "outputs": [
        {
          "output_type": "stream",
          "name": "stdout",
          "text": [
            "Is it possible?\n"
          ]
        }
      ]
    },
    {
      "cell_type": "code",
      "source": [
        "r = Random(\"Randomvalue\")\n",
        "print(r.display())"
      ],
      "metadata": {
        "colab": {
          "base_uri": "https://localhost:8080/"
        },
        "id": "vvVl5U6JFUde",
        "outputId": "d35433de-0019-4a55-983e-9dc4882fa275"
      },
      "execution_count": 115,
      "outputs": [
        {
          "output_type": "stream",
          "name": "stdout",
          "text": [
            "Randomvalue\n",
            "None\n"
          ]
        }
      ]
    },
    {
      "cell_type": "code",
      "source": [
        "class A:\n",
        "    def __init__(self):\n",
        "        self.variable = 'Old'\n",
        "        self.update(self.variable)\n",
        "\n",
        "    def update(self, var):\n",
        "        var = 'New' # creating new local variable\n",
        "\n",
        "a = A()\n",
        "print(a.variable)"
      ],
      "metadata": {
        "colab": {
          "base_uri": "https://localhost:8080/"
        },
        "id": "VYorEphxFXx5",
        "outputId": "c1572188-6eaf-48c0-a863-65dbf682204a"
      },
      "execution_count": 116,
      "outputs": [
        {
          "output_type": "stream",
          "name": "stdout",
          "text": [
            "Old\n"
          ]
        }
      ]
    },
    {
      "cell_type": "code",
      "source": [
        "class A:\n",
        "    def __init__(self):\n",
        "        self.variable = 'Old'\n",
        "        self.update(self.variable)\n",
        "\n",
        "    def update(self, var):\n",
        "        self.variable = 'New'\n",
        "\n",
        "a = A()\n",
        "print(a.variable)"
      ],
      "metadata": {
        "colab": {
          "base_uri": "https://localhost:8080/"
        },
        "id": "RA_vrN4eGG_G",
        "outputId": "66d157c4-e09e-4610-da29-44f4d41d62bc"
      },
      "execution_count": 117,
      "outputs": [
        {
          "output_type": "stream",
          "name": "stdout",
          "text": [
            "New\n"
          ]
        }
      ]
    },
    {
      "cell_type": "code",
      "source": [
        "def func():\n",
        "    pass"
      ],
      "metadata": {
        "id": "WzVT3GK-GMOj"
      },
      "execution_count": 119,
      "outputs": []
    },
    {
      "cell_type": "code",
      "source": [
        "class A:\n",
        "    pass"
      ],
      "metadata": {
        "id": "e5d15tm5HBaR"
      },
      "execution_count": 121,
      "outputs": []
    },
    {
      "cell_type": "code",
      "source": [
        "class A:\n",
        "    def do_something(self):\n",
        "        print(\"I do something!\")\n",
        "\n",
        "class B(A):\n",
        "    def do_something(self):\n",
        "        super().do_something() # immediate parent method\n",
        "        print(\"I also do something!\")\n",
        "\n",
        "b = B()\n",
        "b.do_something()"
      ],
      "metadata": {
        "colab": {
          "base_uri": "https://localhost:8080/"
        },
        "id": "_vRwJZlCHEqe",
        "outputId": "d8a360fb-882c-453a-da32-04715cd8fcb5"
      },
      "execution_count": 122,
      "outputs": [
        {
          "output_type": "stream",
          "name": "stdout",
          "text": [
            "I do something!\n",
            "I also do something!\n"
          ]
        }
      ]
    },
    {
      "cell_type": "code",
      "source": [
        "class object:\n",
        "     def __str__(self):\n",
        "        pass\n",
        "        # prints the memory location of self\n",
        "\n",
        "class A(object):\n",
        "    pass\n",
        "\n",
        "print(A) # print is a function that calls __str__ method of current class"
      ],
      "metadata": {
        "colab": {
          "base_uri": "https://localhost:8080/",
          "height": 104
        },
        "id": "EDBEFCrVHtEK",
        "outputId": "3ca300b9-c49d-4479-d79a-f7b002e818d9"
      },
      "execution_count": 123,
      "outputs": [
        {
          "output_type": "error",
          "ename": "SyntaxError",
          "evalue": "incomplete input (<ipython-input-123-142d4d33b0cc>, line 6)",
          "traceback": [
            "\u001b[0;36m  File \u001b[0;32m\"<ipython-input-123-142d4d33b0cc>\"\u001b[0;36m, line \u001b[0;32m6\u001b[0m\n\u001b[0;31m    class A(object):\u001b[0m\n\u001b[0m                    ^\u001b[0m\n\u001b[0;31mSyntaxError\u001b[0m\u001b[0;31m:\u001b[0m incomplete input\n"
          ]
        }
      ]
    },
    {
      "cell_type": "code",
      "source": [],
      "metadata": {
        "id": "Rg2OC7y-IKK0"
      },
      "execution_count": null,
      "outputs": []
    }
  ]
}