{
  "nbformat": 4,
  "nbformat_minor": 0,
  "metadata": {
    "colab": {
      "provenance": [],
      "authorship_tag": "ABX9TyMUZMKO+j3QpVa1ndRt9GFl",
      "include_colab_link": true
    },
    "kernelspec": {
      "name": "python3",
      "display_name": "Python 3"
    },
    "language_info": {
      "name": "python"
    }
  },
  "cells": [
    {
      "cell_type": "markdown",
      "metadata": {
        "id": "view-in-github",
        "colab_type": "text"
      },
      "source": [
        "<a href=\"https://colab.research.google.com/github/SachinScaler/Jan25_Python/blob/main/OOPS_1%7CLecture.ipynb\" target=\"_parent\"><img src=\"https://colab.research.google.com/assets/colab-badge.svg\" alt=\"Open In Colab\"/></a>"
      ]
    },
    {
      "cell_type": "code",
      "execution_count": 2,
      "metadata": {
        "id": "WZrptZyOkruU"
      },
      "outputs": [],
      "source": [
        "class BankAccount:\n",
        "    pass"
      ]
    },
    {
      "cell_type": "code",
      "source": [
        "ba1 = BankAccount() # instance of bankAccout"
      ],
      "metadata": {
        "id": "nXzd5j7UkvDX"
      },
      "execution_count": 3,
      "outputs": []
    },
    {
      "cell_type": "code",
      "source": [
        "isinstance(ba1, BankAccount)"
      ],
      "metadata": {
        "colab": {
          "base_uri": "https://localhost:8080/"
        },
        "id": "KwtPj4CCk68p",
        "outputId": "46c399fd-668e-45c6-a9d9-b9eb7c7b9f93"
      },
      "execution_count": 5,
      "outputs": [
        {
          "output_type": "execute_result",
          "data": {
            "text/plain": [
              "True"
            ]
          },
          "metadata": {},
          "execution_count": 5
        }
      ]
    },
    {
      "cell_type": "code",
      "source": [
        "ba2 = BankAccount() # instance of bankAccout"
      ],
      "metadata": {
        "id": "FMCiZWIjlIf8"
      },
      "execution_count": 6,
      "outputs": []
    },
    {
      "cell_type": "code",
      "source": [
        "id(ba1) , id(ba2)"
      ],
      "metadata": {
        "colab": {
          "base_uri": "https://localhost:8080/"
        },
        "id": "a7Ypyw0blNn0",
        "outputId": "69d3b1ec-cdc6-4861-aa36-dcb78165027b"
      },
      "execution_count": 7,
      "outputs": [
        {
          "output_type": "execute_result",
          "data": {
            "text/plain": [
              "(140708518706384, 140708511816656)"
            ]
          },
          "metadata": {},
          "execution_count": 7
        }
      ]
    },
    {
      "cell_type": "code",
      "source": [
        "ba1.acc_id = 101"
      ],
      "metadata": {
        "id": "c1R_3kH3lTY1"
      },
      "execution_count": 8,
      "outputs": []
    },
    {
      "cell_type": "code",
      "source": [
        "ba1.__dict__"
      ],
      "metadata": {
        "colab": {
          "base_uri": "https://localhost:8080/"
        },
        "id": "NhKHQn4XlgN4",
        "outputId": "6d0a8aeb-879f-461f-8f8d-7c42a1bc56c1"
      },
      "execution_count": 9,
      "outputs": [
        {
          "output_type": "execute_result",
          "data": {
            "text/plain": [
              "{'acc_id': 101}"
            ]
          },
          "metadata": {},
          "execution_count": 9
        }
      ]
    },
    {
      "cell_type": "code",
      "source": [
        "ba2.__dict__"
      ],
      "metadata": {
        "colab": {
          "base_uri": "https://localhost:8080/"
        },
        "id": "Nd-oJa1jljao",
        "outputId": "698cebb3-dcf1-43df-e7c5-105c71d616d4"
      },
      "execution_count": 10,
      "outputs": [
        {
          "output_type": "execute_result",
          "data": {
            "text/plain": [
              "{}"
            ]
          },
          "metadata": {},
          "execution_count": 10
        }
      ]
    },
    {
      "cell_type": "code",
      "source": [
        "class BankAccount:\n",
        "    def __init__(self, acc_id, balance, bank_name):\n",
        "        self.acc_id = acc_id\n",
        "        self.balance = balance\n",
        "        self.bank_name = bank_name\n",
        "\n",
        "ba1 = BankAccount() # instance of bankAccout"
      ],
      "metadata": {
        "colab": {
          "base_uri": "https://localhost:8080/",
          "height": 190
        },
        "id": "dy7iOVO2lmVD",
        "outputId": "cbd72328-5490-43bf-e9de-674be75f5553"
      },
      "execution_count": 12,
      "outputs": [
        {
          "output_type": "error",
          "ename": "TypeError",
          "evalue": "BankAccount.__init__() missing 3 required positional arguments: 'acc_id', 'balance', and 'bank_name'",
          "traceback": [
            "\u001b[0;31m---------------------------------------------------------------------------\u001b[0m",
            "\u001b[0;31mTypeError\u001b[0m                                 Traceback (most recent call last)",
            "\u001b[0;32m<ipython-input-12-d543a2aba396>\u001b[0m in \u001b[0;36m<cell line: 7>\u001b[0;34m()\u001b[0m\n\u001b[1;32m      5\u001b[0m         \u001b[0mself\u001b[0m\u001b[0;34m.\u001b[0m\u001b[0mbank_name\u001b[0m \u001b[0;34m=\u001b[0m \u001b[0mbank_name\u001b[0m\u001b[0;34m\u001b[0m\u001b[0;34m\u001b[0m\u001b[0m\n\u001b[1;32m      6\u001b[0m \u001b[0;34m\u001b[0m\u001b[0m\n\u001b[0;32m----> 7\u001b[0;31m \u001b[0mba1\u001b[0m \u001b[0;34m=\u001b[0m \u001b[0mBankAccount\u001b[0m\u001b[0;34m(\u001b[0m\u001b[0;34m)\u001b[0m \u001b[0;31m# instance of bankAccout\u001b[0m\u001b[0;34m\u001b[0m\u001b[0;34m\u001b[0m\u001b[0m\n\u001b[0m",
            "\u001b[0;31mTypeError\u001b[0m: BankAccount.__init__() missing 3 required positional arguments: 'acc_id', 'balance', and 'bank_name'"
          ]
        }
      ]
    },
    {
      "cell_type": "code",
      "source": [
        "ba1 = BankAccount(101, 5000, \"SBI\") # instance of bankAccout\n",
        "ba1.__dict__"
      ],
      "metadata": {
        "colab": {
          "base_uri": "https://localhost:8080/"
        },
        "id": "zUyacEismq4X",
        "outputId": "2d846299-0c2c-4ad5-d644-57f6fab17ec7"
      },
      "execution_count": 14,
      "outputs": [
        {
          "output_type": "execute_result",
          "data": {
            "text/plain": [
              "{'acc_id': 101, 'balance': 5000, 'bank_name': 'SBI'}"
            ]
          },
          "metadata": {},
          "execution_count": 14
        }
      ]
    },
    {
      "cell_type": "code",
      "source": [
        "ba2 = BankAccount(102, 10000, \"SBI\") # instance of bankAccout\n",
        "ba2.__dict__"
      ],
      "metadata": {
        "colab": {
          "base_uri": "https://localhost:8080/"
        },
        "id": "XcmGDk-Xm48i",
        "outputId": "ad4afcf6-e385-4b28-88af-f4523b133285"
      },
      "execution_count": 15,
      "outputs": [
        {
          "output_type": "execute_result",
          "data": {
            "text/plain": [
              "{'acc_id': 102, 'balance': 10000, 'bank_name': 'SBI'}"
            ]
          },
          "metadata": {},
          "execution_count": 15
        }
      ]
    },
    {
      "cell_type": "code",
      "source": [
        "dir(ba2)"
      ],
      "metadata": {
        "colab": {
          "base_uri": "https://localhost:8080/"
        },
        "id": "i16v1db7nEKs",
        "outputId": "03e26270-c8ff-4d8b-d90e-0ed782cacd2e"
      },
      "execution_count": 16,
      "outputs": [
        {
          "output_type": "execute_result",
          "data": {
            "text/plain": [
              "['__class__',\n",
              " '__delattr__',\n",
              " '__dict__',\n",
              " '__dir__',\n",
              " '__doc__',\n",
              " '__eq__',\n",
              " '__format__',\n",
              " '__ge__',\n",
              " '__getattribute__',\n",
              " '__gt__',\n",
              " '__hash__',\n",
              " '__init__',\n",
              " '__init_subclass__',\n",
              " '__le__',\n",
              " '__lt__',\n",
              " '__module__',\n",
              " '__ne__',\n",
              " '__new__',\n",
              " '__reduce__',\n",
              " '__reduce_ex__',\n",
              " '__repr__',\n",
              " '__setattr__',\n",
              " '__sizeof__',\n",
              " '__str__',\n",
              " '__subclasshook__',\n",
              " '__weakref__',\n",
              " 'acc_id',\n",
              " 'balance',\n",
              " 'bank_name']"
            ]
          },
          "metadata": {},
          "execution_count": 16
        }
      ]
    },
    {
      "cell_type": "code",
      "source": [
        "class BankAccount:\n",
        "    def __init__(self, acc_id, balance, bank_name):\n",
        "        print(self, id(self))\n",
        "        self.acc_id = acc_id\n",
        "        self.balance = balance\n",
        "        self.bank_name = bank_name\n",
        "\n",
        "ba1 = BankAccount(101, 5000, \"SBI\") # instance of bankAccout"
      ],
      "metadata": {
        "colab": {
          "base_uri": "https://localhost:8080/"
        },
        "id": "V01i-w4YnPir",
        "outputId": "dd59a409-d983-4443-c2cc-2a578f635193"
      },
      "execution_count": 17,
      "outputs": [
        {
          "output_type": "stream",
          "name": "stdout",
          "text": [
            "<__main__.BankAccount object at 0x7ff940dd1f90> 140708511817616\n"
          ]
        }
      ]
    },
    {
      "cell_type": "code",
      "source": [
        "print(ba1, id(ba1))"
      ],
      "metadata": {
        "colab": {
          "base_uri": "https://localhost:8080/"
        },
        "id": "eAHBiB28ngDy",
        "outputId": "2a3a7fc8-55c9-49b0-9040-8f67c498e88b"
      },
      "execution_count": 18,
      "outputs": [
        {
          "output_type": "stream",
          "name": "stdout",
          "text": [
            "<__main__.BankAccount object at 0x7ff940dd1f90> 140708511817616\n"
          ]
        }
      ]
    },
    {
      "cell_type": "code",
      "source": [
        "ba2 = BankAccount(102, 10000, \"SBI\") # instance of bankAccout\n",
        "print(ba2, id(ba2))"
      ],
      "metadata": {
        "colab": {
          "base_uri": "https://localhost:8080/"
        },
        "id": "rARCDxlQnm5W",
        "outputId": "9c654b74-830a-42c4-faa6-e2f676ecd7f5"
      },
      "execution_count": 19,
      "outputs": [
        {
          "output_type": "stream",
          "name": "stdout",
          "text": [
            "<__main__.BankAccount object at 0x7ff940dd3eb0> 140708511825584\n",
            "<__main__.BankAccount object at 0x7ff940dd3eb0> 140708511825584\n"
          ]
        }
      ]
    },
    {
      "cell_type": "markdown",
      "source": [
        "### Random Example"
      ],
      "metadata": {
        "id": "w7DWTuF_oWfQ"
      }
    },
    {
      "cell_type": "code",
      "source": [
        "class A:\n",
        "    def __init__(num, self):\n",
        "        print(num)\n",
        "        print(self)\n",
        "\n",
        "a1 = A(10)"
      ],
      "metadata": {
        "colab": {
          "base_uri": "https://localhost:8080/"
        },
        "id": "pEh77FEenznV",
        "outputId": "23e49655-319b-48d5-df95-f63d2a309c70"
      },
      "execution_count": 22,
      "outputs": [
        {
          "output_type": "stream",
          "name": "stdout",
          "text": [
            "<__main__.A object at 0x7ff940dd1930>\n",
            "10\n"
          ]
        }
      ]
    },
    {
      "cell_type": "markdown",
      "source": [],
      "metadata": {
        "id": "ZvHjc4R5pIrd"
      }
    },
    {
      "cell_type": "code",
      "source": [
        "class BankAccount:\n",
        "    def __init__(self, acc_id, balance, bank_name):\n",
        "        self.acc_id = acc_id\n",
        "        self.balance = balance\n",
        "        self.bank_name = bank_name\n",
        "\n",
        "    def credit(self, amount):\n",
        "        self.balance += amount\n",
        "\n",
        "    def check_balance(self):\n",
        "        return self.balance\n",
        "\n",
        "    def debit(self, amount):\n",
        "        pass\n",
        "        # implement this\n",
        "\n",
        "ba1 = BankAccount(101, 5000, \"SBI\")\n",
        "ba1.check_balance()"
      ],
      "metadata": {
        "colab": {
          "base_uri": "https://localhost:8080/"
        },
        "id": "a3xgg3HBov0G",
        "outputId": "4c7040de-d4e9-4c08-c9d3-63acff8e7bc0"
      },
      "execution_count": 24,
      "outputs": [
        {
          "output_type": "execute_result",
          "data": {
            "text/plain": [
              "5000"
            ]
          },
          "metadata": {},
          "execution_count": 24
        }
      ]
    },
    {
      "cell_type": "code",
      "source": [
        "ba2 = BankAccount(102, 1000, \"SBI\")\n",
        "ba2.check_balance()"
      ],
      "metadata": {
        "colab": {
          "base_uri": "https://localhost:8080/"
        },
        "id": "gATA048AqCaK",
        "outputId": "dc5c9dd4-819c-4495-8dbe-3b161bbc6e6d"
      },
      "execution_count": 25,
      "outputs": [
        {
          "output_type": "execute_result",
          "data": {
            "text/plain": [
              "1000"
            ]
          },
          "metadata": {},
          "execution_count": 25
        }
      ]
    },
    {
      "cell_type": "code",
      "source": [
        "ba1"
      ],
      "metadata": {
        "colab": {
          "base_uri": "https://localhost:8080/"
        },
        "id": "7pO6bB68qHpw",
        "outputId": "3ae6263f-a36e-48b4-d532-85fea3699036"
      },
      "execution_count": 26,
      "outputs": [
        {
          "output_type": "execute_result",
          "data": {
            "text/plain": [
              "<__main__.BankAccount at 0x7ff940e3d420>"
            ]
          },
          "metadata": {},
          "execution_count": 26
        }
      ]
    },
    {
      "cell_type": "code",
      "source": [
        "ba1.balance"
      ],
      "metadata": {
        "colab": {
          "base_uri": "https://localhost:8080/"
        },
        "id": "lta1JvrhqwX6",
        "outputId": "10f2d3a8-6829-40df-bc5a-a2e152595a80"
      },
      "execution_count": 27,
      "outputs": [
        {
          "output_type": "execute_result",
          "data": {
            "text/plain": [
              "5000"
            ]
          },
          "metadata": {},
          "execution_count": 27
        }
      ]
    },
    {
      "cell_type": "code",
      "source": [
        "ba1.balance = 1000000"
      ],
      "metadata": {
        "id": "cV0HC6hzq8oH"
      },
      "execution_count": 28,
      "outputs": []
    },
    {
      "cell_type": "code",
      "source": [
        "ba1.balance"
      ],
      "metadata": {
        "colab": {
          "base_uri": "https://localhost:8080/"
        },
        "id": "Flq5YIxkrCDv",
        "outputId": "097a49dc-7ab4-41eb-8d00-6094243976a2"
      },
      "execution_count": 29,
      "outputs": [
        {
          "output_type": "execute_result",
          "data": {
            "text/plain": [
              "1000000"
            ]
          },
          "metadata": {},
          "execution_count": 29
        }
      ]
    },
    {
      "cell_type": "code",
      "source": [
        "ba1.check_balance()"
      ],
      "metadata": {
        "colab": {
          "base_uri": "https://localhost:8080/"
        },
        "id": "uYBp_N7GrDSn",
        "outputId": "b6eb09ce-5ddf-43c9-e96e-967e68449eb2"
      },
      "execution_count": 30,
      "outputs": [
        {
          "output_type": "execute_result",
          "data": {
            "text/plain": [
              "1000000"
            ]
          },
          "metadata": {},
          "execution_count": 30
        }
      ]
    },
    {
      "cell_type": "markdown",
      "source": [
        "### Access Specifier"
      ],
      "metadata": {
        "id": "6hvoWrGNrMO-"
      }
    },
    {
      "cell_type": "code",
      "source": [
        "class BankAccount:\n",
        "    def __init__(self, acc_id, balance, bank_name):\n",
        "        self.__acc_id = acc_id # private vars\n",
        "        self.__balance = balance # private vars\n",
        "        self.bank_name = bank_name # public\n",
        "        self._name = \"some string\" # protected\n",
        "\n",
        "    def credit(self, amount):\n",
        "        self.__balance += amount\n",
        "\n",
        "    def check_balance(self):\n",
        "        return self.__balance\n",
        "\n",
        "    def debit(self, amount):\n",
        "        pass\n",
        "\n",
        "ba1 = BankAccount(101, 5000, \"SBI\")\n",
        "ba1.check_balance()"
      ],
      "metadata": {
        "colab": {
          "base_uri": "https://localhost:8080/"
        },
        "id": "WrWTPt5trFPq",
        "outputId": "c33f7c4d-16a4-4526-8efd-0761b572e442"
      },
      "execution_count": 32,
      "outputs": [
        {
          "output_type": "execute_result",
          "data": {
            "text/plain": [
              "5000"
            ]
          },
          "metadata": {},
          "execution_count": 32
        }
      ]
    },
    {
      "cell_type": "code",
      "source": [
        "ba1.balance"
      ],
      "metadata": {
        "colab": {
          "base_uri": "https://localhost:8080/",
          "height": 157
        },
        "id": "xEc0t3xSr16y",
        "outputId": "2d0547ff-3c71-4312-e837-0c7a53af3c55"
      },
      "execution_count": 33,
      "outputs": [
        {
          "output_type": "error",
          "ename": "AttributeError",
          "evalue": "'BankAccount' object has no attribute 'balance'",
          "traceback": [
            "\u001b[0;31m---------------------------------------------------------------------------\u001b[0m",
            "\u001b[0;31mAttributeError\u001b[0m                            Traceback (most recent call last)",
            "\u001b[0;32m<ipython-input-33-57e79b550ad5>\u001b[0m in \u001b[0;36m<cell line: 1>\u001b[0;34m()\u001b[0m\n\u001b[0;32m----> 1\u001b[0;31m \u001b[0mba1\u001b[0m\u001b[0;34m.\u001b[0m\u001b[0mbalance\u001b[0m\u001b[0;34m\u001b[0m\u001b[0;34m\u001b[0m\u001b[0m\n\u001b[0m",
            "\u001b[0;31mAttributeError\u001b[0m: 'BankAccount' object has no attribute 'balance'"
          ]
        }
      ]
    },
    {
      "cell_type": "code",
      "source": [
        "ba1.__balance"
      ],
      "metadata": {
        "colab": {
          "base_uri": "https://localhost:8080/",
          "height": 157
        },
        "id": "ivkdRfEGsCm8",
        "outputId": "fa3c9328-28e3-421e-9312-104b68b5d2c0"
      },
      "execution_count": 34,
      "outputs": [
        {
          "output_type": "error",
          "ename": "AttributeError",
          "evalue": "'BankAccount' object has no attribute '__balance'",
          "traceback": [
            "\u001b[0;31m---------------------------------------------------------------------------\u001b[0m",
            "\u001b[0;31mAttributeError\u001b[0m                            Traceback (most recent call last)",
            "\u001b[0;32m<ipython-input-34-69bde4ac13e8>\u001b[0m in \u001b[0;36m<cell line: 1>\u001b[0;34m()\u001b[0m\n\u001b[0;32m----> 1\u001b[0;31m \u001b[0mba1\u001b[0m\u001b[0;34m.\u001b[0m\u001b[0m__balance\u001b[0m\u001b[0;34m\u001b[0m\u001b[0;34m\u001b[0m\u001b[0m\n\u001b[0m",
            "\u001b[0;31mAttributeError\u001b[0m: 'BankAccount' object has no attribute '__balance'"
          ]
        }
      ]
    },
    {
      "cell_type": "code",
      "source": [
        "ba1.balance = 1000000000\n",
        "ba1.__balance = 1000000000"
      ],
      "metadata": {
        "id": "6pALVsQwsGQv"
      },
      "execution_count": 35,
      "outputs": []
    },
    {
      "cell_type": "code",
      "source": [
        "ba1.check_balance()"
      ],
      "metadata": {
        "colab": {
          "base_uri": "https://localhost:8080/"
        },
        "id": "iwi2zUzfsPeb",
        "outputId": "021b84d3-45bc-4db6-9d68-297295d5994b"
      },
      "execution_count": 36,
      "outputs": [
        {
          "output_type": "execute_result",
          "data": {
            "text/plain": [
              "5000"
            ]
          },
          "metadata": {},
          "execution_count": 36
        }
      ]
    },
    {
      "cell_type": "code",
      "source": [
        "ba1.__dict__"
      ],
      "metadata": {
        "colab": {
          "base_uri": "https://localhost:8080/"
        },
        "id": "2SpuvqbMsTxF",
        "outputId": "207cdb9d-7f82-418f-cfff-e99fa1ca3689"
      },
      "execution_count": 37,
      "outputs": [
        {
          "output_type": "execute_result",
          "data": {
            "text/plain": [
              "{'_BankAccount__acc_id': 101,\n",
              " '_BankAccount__balance': 5000,\n",
              " 'bank_name': 'SBI',\n",
              " '_name': 'some string',\n",
              " 'balance': 1000000000,\n",
              " '__balance': 1000000000}"
            ]
          },
          "metadata": {},
          "execution_count": 37
        }
      ]
    },
    {
      "cell_type": "code",
      "source": [
        "ba1._BankAccount__balance = 1000000000"
      ],
      "metadata": {
        "id": "QUALt5Xzshjm"
      },
      "execution_count": 38,
      "outputs": []
    },
    {
      "cell_type": "code",
      "source": [
        "ba1.check_balance()"
      ],
      "metadata": {
        "colab": {
          "base_uri": "https://localhost:8080/"
        },
        "id": "9oxBVRIQsvbo",
        "outputId": "b43e4836-c888-4969-ad03-47f2d74aa48e"
      },
      "execution_count": 39,
      "outputs": [
        {
          "output_type": "execute_result",
          "data": {
            "text/plain": [
              "1000000000"
            ]
          },
          "metadata": {},
          "execution_count": 39
        }
      ]
    },
    {
      "cell_type": "markdown",
      "source": [
        "### Polymorhpism"
      ],
      "metadata": {
        "id": "tE9jbDl2tlum"
      }
    },
    {
      "cell_type": "code",
      "source": [
        "1 + 2 # int: mathematical addition: __add__"
      ],
      "metadata": {
        "colab": {
          "base_uri": "https://localhost:8080/"
        },
        "id": "A4-AsVDTswPd",
        "outputId": "bc5efe53-4066-411c-ad89-e09ffc40215f"
      },
      "execution_count": 40,
      "outputs": [
        {
          "output_type": "execute_result",
          "data": {
            "text/plain": [
              "3"
            ]
          },
          "metadata": {},
          "execution_count": 40
        }
      ]
    },
    {
      "cell_type": "code",
      "source": [
        "\"1\" + \"2\" # str: concatenation addition: __add__"
      ],
      "metadata": {
        "colab": {
          "base_uri": "https://localhost:8080/",
          "height": 56
        },
        "id": "BdMqnAKntqMS",
        "outputId": "78a9cddc-291d-4280-af9e-9deaa5791bc4"
      },
      "execution_count": 42,
      "outputs": [
        {
          "output_type": "execute_result",
          "data": {
            "text/plain": [
              "'12'"
            ],
            "application/vnd.google.colaboratory.intrinsic+json": {
              "type": "string"
            }
          },
          "metadata": {},
          "execution_count": 42
        }
      ]
    },
    {
      "cell_type": "markdown",
      "source": [
        "### Activity for AW:\n",
        "#### implement class rectangle:\n",
        "vars:\n",
        "- length\n",
        "- bread\n",
        "\n",
        "method:\n",
        "- check_area\n",
        "\n",
        "#### implement class circle:\n",
        "vars:\n",
        "- radius\n",
        "\n",
        "method:\n",
        "- check_area"
      ],
      "metadata": {
        "id": "C3-HHL_tt9MH"
      }
    },
    {
      "cell_type": "code",
      "source": [
        "class Student:\n",
        "    pass\n",
        "isinstance(Student, object)\n"
      ],
      "metadata": {
        "colab": {
          "base_uri": "https://localhost:8080/"
        },
        "id": "DrhdBeOCtuea",
        "outputId": "c8d9e02b-1497-4090-dec4-59a853d5a61b"
      },
      "execution_count": 44,
      "outputs": [
        {
          "output_type": "execute_result",
          "data": {
            "text/plain": [
              "True"
            ]
          },
          "metadata": {},
          "execution_count": 44
        }
      ]
    },
    {
      "cell_type": "code",
      "source": [
        "dir(Student)"
      ],
      "metadata": {
        "colab": {
          "base_uri": "https://localhost:8080/"
        },
        "id": "feoi5ukXvLJf",
        "outputId": "8faae3d9-eb97-4836-e525-9f37024e98a5"
      },
      "execution_count": 45,
      "outputs": [
        {
          "output_type": "execute_result",
          "data": {
            "text/plain": [
              "['__class__',\n",
              " '__delattr__',\n",
              " '__dict__',\n",
              " '__dir__',\n",
              " '__doc__',\n",
              " '__eq__',\n",
              " '__format__',\n",
              " '__ge__',\n",
              " '__getattribute__',\n",
              " '__gt__',\n",
              " '__hash__',\n",
              " '__init__',\n",
              " '__init_subclass__',\n",
              " '__le__',\n",
              " '__lt__',\n",
              " '__module__',\n",
              " '__ne__',\n",
              " '__new__',\n",
              " '__reduce__',\n",
              " '__reduce_ex__',\n",
              " '__repr__',\n",
              " '__setattr__',\n",
              " '__sizeof__',\n",
              " '__str__',\n",
              " '__subclasshook__',\n",
              " '__weakref__']"
            ]
          },
          "metadata": {},
          "execution_count": 45
        }
      ]
    },
    {
      "cell_type": "code",
      "source": [],
      "metadata": {
        "id": "CK3B_LpMyVp0"
      },
      "execution_count": null,
      "outputs": []
    }
  ]
}