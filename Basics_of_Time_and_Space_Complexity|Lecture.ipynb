{
  "nbformat": 4,
  "nbformat_minor": 0,
  "metadata": {
    "colab": {
      "provenance": [],
      "authorship_tag": "ABX9TyON4SxAEIq2BFsq4/JMUUnX",
      "include_colab_link": true
    },
    "kernelspec": {
      "name": "python3",
      "display_name": "Python 3"
    },
    "language_info": {
      "name": "python"
    }
  },
  "cells": [
    {
      "cell_type": "markdown",
      "metadata": {
        "id": "view-in-github",
        "colab_type": "text"
      },
      "source": [
        "<a href=\"https://colab.research.google.com/github/SachinScaler/Jan25_Python/blob/main/Basics_of_Time_and_Space_Complexity%7CLecture.ipynb\" target=\"_parent\"><img src=\"https://colab.research.google.com/assets/colab-badge.svg\" alt=\"Open In Colab\"/></a>"
      ]
    },
    {
      "cell_type": "code",
      "execution_count": null,
      "metadata": {
        "id": "4Rt-v8Dyz8Yl"
      },
      "outputs": [],
      "source": [
        "def foo(n):\n",
        "    sum = 0. # 1 ops\n",
        "    for i in range(n): # 10 times\n",
        "        sum += i # 10 time\n",
        "    return sum # 1 ops\n",
        "foo(10)# 2n + c -> 20 + 2"
      ]
    },
    {
      "cell_type": "code",
      "source": [
        "def foo(n):\n",
        "    sum = 0. # 1 ops\n",
        "    for i in range(n): # 20 times\n",
        "        sum += i # 20 time\n",
        "    return sum # 1 ops\n",
        "foo(20)# 2n + c -> 40 + 2\n",
        "# num_ops = 2x+c where x is input: linear trend"
      ],
      "metadata": {
        "id": "n0p2cuNPP-lk"
      },
      "execution_count": null,
      "outputs": []
    },
    {
      "cell_type": "code",
      "source": [
        "def foo(n):\n",
        "    sum = 0. # 1 ops\n",
        "    for i in range(n): # n times\n",
        "        for j in range(n): #n * n\n",
        "           print(\"Hi\") # n*n\n",
        "    return sum # 1 ops\n",
        "foo(3) # 2n*n + c-> 2n^2 + c --> Quadratic Trend"
      ],
      "metadata": {
        "colab": {
          "base_uri": "https://localhost:8080/"
        },
        "id": "_pw4GEnIQY42",
        "outputId": "65953ea3-d5ba-4729-96de-cd818aec275f"
      },
      "execution_count": 2,
      "outputs": [
        {
          "output_type": "stream",
          "name": "stdout",
          "text": [
            "Hi\n",
            "Hi\n",
            "Hi\n",
            "Hi\n",
            "Hi\n",
            "Hi\n",
            "Hi\n",
            "Hi\n",
            "Hi\n"
          ]
        },
        {
          "output_type": "execute_result",
          "data": {
            "text/plain": [
              "0.0"
            ]
          },
          "metadata": {},
          "execution_count": 2
        }
      ]
    },
    {
      "cell_type": "code",
      "source": [
        "for i in [\"Am\"]:\n",
        "    for j in [\"Cool\"]:\n",
        "        for k in [\".\"]:\n",
        "            print(i+j+k)\n"
      ],
      "metadata": {
        "colab": {
          "base_uri": "https://localhost:8080/"
        },
        "id": "HWm0DDahQZ6h",
        "outputId": "85b47956-987e-4804-cc7d-5bf498d9c117"
      },
      "execution_count": 5,
      "outputs": [
        {
          "output_type": "stream",
          "name": "stdout",
          "text": [
            "AmCool.\n"
          ]
        }
      ]
    },
    {
      "cell_type": "code",
      "source": [
        "def func(a, *args, b=20, **kwargs):\n",
        "    print(a)\n",
        "    print(args)\n",
        "    print(b)\n",
        "    print(kwargs)\n",
        "\n",
        "func(10, 20, 30, b=300, c=20)"
      ],
      "metadata": {
        "colab": {
          "base_uri": "https://localhost:8080/"
        },
        "id": "Bhlt5jpKWCww",
        "outputId": "843b73bd-8f49-4e47-d328-b44f8d3a3668"
      },
      "execution_count": 8,
      "outputs": [
        {
          "output_type": "stream",
          "name": "stdout",
          "text": [
            "10\n",
            "(20, 30)\n",
            "300\n",
            "{'c': 20}\n"
          ]
        }
      ]
    },
    {
      "cell_type": "code",
      "source": [],
      "metadata": {
        "id": "bmXwQ635WSa9"
      },
      "execution_count": null,
      "outputs": []
    }
  ]
}