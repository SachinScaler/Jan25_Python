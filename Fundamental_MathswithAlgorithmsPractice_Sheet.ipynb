{
  "nbformat": 4,
  "nbformat_minor": 0,
  "metadata": {
    "colab": {
      "provenance": [],
      "authorship_tag": "ABX9TyO3CNsk3IzPAp4zlRON8mjM",
      "include_colab_link": true
    },
    "kernelspec": {
      "name": "python3",
      "display_name": "Python 3"
    },
    "language_info": {
      "name": "python"
    }
  },
  "cells": [
    {
      "cell_type": "markdown",
      "metadata": {
        "id": "view-in-github",
        "colab_type": "text"
      },
      "source": [
        "<a href=\"https://colab.research.google.com/github/SachinScaler/Jan25_Python/blob/main/Fundamental_MathswithAlgorithmsPractice_Sheet.ipynb\" target=\"_parent\"><img src=\"https://colab.research.google.com/assets/colab-badge.svg\" alt=\"Open In Colab\"/></a>"
      ]
    },
    {
      "cell_type": "markdown",
      "source": [
        "## Question 1a: Scalar Multiplication of Lists\n",
        "\n",
        "Given a List of numbers, generate a new list with every number multiplied by 2\n",
        "```\n",
        "input:\n",
        "[1, 2, 3, 4, 5]\n",
        "\n",
        "output:\n",
        "[1, 4, 6, 8, 10]\n",
        "```"
      ],
      "metadata": {
        "id": "7qtD7vBDFMkC"
      }
    },
    {
      "cell_type": "markdown",
      "source": [
        "## Question 1b: Element-wise Multiplication of Lists\n",
        "\n",
        "**Q: Given two Lists of equal length, perform element-wise multiplication.**\n",
        "\n",
        "```\n",
        "input:\n",
        "list1 = [1, 2, 3, 4]\n",
        "list2 = [5, 6, 7, 8]\n",
        "\n",
        "output:\n",
        "[5, 12, 21, 32]\n",
        "```"
      ],
      "metadata": {
        "id": "HzWiAtU9HBPs"
      }
    },
    {
      "cell_type": "markdown",
      "source": [
        "## Question 2: Element-wise Arithmetic Operations\n",
        "\n",
        "**Q: Given two Lists of equal length, create a new list containing the element-wise sum of corresponding elements.**\n",
        "\n",
        "```\n",
        "input:\n",
        "list1 = [1, 2, 3, 4, 5]\n",
        "list2 = [6, 7, 8, 9, 10]\n",
        "\n",
        "output:\n",
        "[7, 9, 11, 13, 15]\n",
        "```\n",
        "\n",
        "## Question 3: Filtering Elements\n",
        "\n",
        "**Q: Given a List of numbers, create a new list containing only the even numbers.**\n",
        "\n",
        "```\n",
        "input:\n",
        "[1, 2, 3, 4, 5, 6, 7, 8, 9, 10]\n",
        "\n",
        "output:\n",
        "[2, 4, 6, 8, 10]\n",
        "```\n",
        "\n",
        "## Question 4: Finding Maximum and Minimum Values\n",
        "\n",
        "**Q: Given a List of numbers, find the maximum and minimum values in the list.**\n",
        "\n",
        "```\n",
        "input:\n",
        "[3, 7, 1, 9, 5]\n",
        "\n",
        "output:\n",
        "Maximum: 9\n",
        "Minimum: 1\n",
        "```\n",
        "\n",
        "## Question 5: Reshaping Data\n",
        "\n",
        "**Q: Given a List of numbers, reshape it into a 2D array with specified dimensions.**\n",
        "\n",
        "```\n",
        "input:\n",
        "[1, 2, 3, 4, 5, 6, 7, 8, 9]\n",
        "desired shape: (3, 3)\n",
        "\n",
        "output:\n",
        "[[1, 2, 3],\n",
        " [4, 5, 6],\n",
        " [7, 8, 9]]\n",
        "```\n"
      ],
      "metadata": {
        "id": "Hlv2FkZGF8GW"
      }
    },
    {
      "cell_type": "markdown",
      "source": [
        "## Question 6: Matrix Multiplication\n",
        "\n",
        "**Q: Given two Lists of numbers representing matrices, perform matrix multiplication.**\n",
        "\n",
        "```\n",
        "input:\n",
        "list1 = [[1, 2], [3, 4]]\n",
        "list2 = [[5, 6], [7, 8]]\n",
        "\n",
        "output:\n",
        "[[19, 22],\n",
        " [43, 50]]\n",
        "```\n",
        "\n",
        "## Question 7: Summation of Matrix Elements\n",
        "\n",
        "**Q: Given a List of numbers representing a matrix, calculate the sum of all elements**\n",
        "\n",
        "```\n",
        "input:\n",
        "list1 = [[1, 2, 3], [4, 5, 6]]\n",
        "\n",
        "output:\n",
        "21\n",
        "```\n",
        "\n",
        "\n"
      ],
      "metadata": {
        "id": "wHNdxfuvGePC"
      }
    },
    {
      "cell_type": "markdown",
      "source": [
        "## Question 8:\n",
        "\n",
        "**Q: Given a list of numbers and a list of indices, generate an output list with elements present at respective indices.**\n",
        "\n",
        "**Example:**\n",
        "\n",
        "```python\n",
        "numbers = [10, 20, 30, 40, 50]\n",
        "indices = [2, 0, 3, 1, 1]\n",
        "\n",
        "# Expected output: [30, 10, 40, 20, 20]\n",
        "```\n",
        "Notice that the output list is constructed using elements in indices list. For each index, the corresponding element from the numbers list is fetched.\n"
      ],
      "metadata": {
        "id": "RB4oVMAdII3R"
      }
    },
    {
      "cell_type": "markdown",
      "source": [
        "## Question 9:\n",
        "\n",
        "**Q: Given two numbers a and b and a list of numbers of size a*b, Create a new matrix of size a x b**\n",
        "\n",
        "**Example:**\n",
        "\n",
        "```python\n",
        "a = 3\n",
        "b = 4\n",
        "input_list = [ 0,  1,  2,  3,  4,  5,  6,  7,  8,  9, 10, 11]\n",
        "\n",
        "# Expected output:\n",
        "[[ 0,  1,  2,  3],\n",
        " [ 4,  5,  6,  7],\n",
        " [ 8,  9, 10, 11]]\n",
        "```\n",
        "Notice that the output is of size 3 x 4\n"
      ],
      "metadata": {
        "id": "-02-xUBJ4bOl"
      }
    },
    {
      "cell_type": "markdown",
      "source": [
        "## Question 10:\n",
        "\n",
        "**Q: Given a 2D matrix and a threshold number, filter all elements less than threshold**\n",
        "\n",
        "**Example:**\n",
        "\n",
        "```python\n",
        "threshold = 6\n",
        "input_list =\n",
        "[[ 0,  1,  2,  3],\n",
        " [ 4,  5,  6,  7],\n",
        " [ 8,  9, 10, 11]]\n",
        "\n",
        "Output:\n",
        "[0, 1, 2, 3, 4, 5]\n",
        "```\n"
      ],
      "metadata": {
        "id": "-ey2jAg25dFU"
      }
    },
    {
      "cell_type": "markdown",
      "source": [
        "## Question 11:\n",
        "\n",
        "**Q: Given a 2D matrix, Find the sum of each column(also known as rowwise sum) and return output as list**\n",
        "\n",
        "**Example:**\n",
        "\n",
        "```python\n",
        "\n",
        "input_list =\n",
        "[[ 0,  1,  2,  3],\n",
        " [ 4,  5,  6,  7],\n",
        " [ 8,  9, 10, 11]]\n",
        "\n",
        "Output:\n",
        "[12, 15, 18, 21])\n",
        "```\n",
        "Notice there are 4 columns hence 4 output\n",
        "\n",
        "\n"
      ],
      "metadata": {
        "id": "DsrjF2rr6GfV"
      }
    },
    {
      "cell_type": "markdown",
      "source": [
        "\n",
        "\n",
        "## Question 12:\n",
        "\n",
        "**Q: Given a 2D matrix and a threshold number, Find the sum of each row ((also known as column-wise sum)  and return output as list**\n",
        "\n",
        "**Example:**\n",
        "\n",
        "```python\n",
        "threshold = 6\n",
        "input_list =\n",
        "[[ 0,  1,  2,  3],\n",
        " [ 4,  5,  6,  7],\n",
        " [ 8,  9, 10, 11]]\n",
        "\n",
        "Output:\n",
        "[ 6, 22, 38])\n",
        "```\n",
        "\n",
        "Notice there are 3 rows and sum is taken across column of each row"
      ],
      "metadata": {
        "id": "paA8fpSR6yq9"
      }
    },
    {
      "cell_type": "markdown",
      "source": [
        "## Q 13: Matrix Multiplication\n",
        "\n",
        "a) Scaler multiplied with Matix:\n",
        "Given a Matrix a and a scaler/constant value b, return a new matrix with elements of a multiplied by b\n",
        "\n",
        "```\n",
        "input:\n",
        "a = [\n",
        "    [ 0,  1,  2,  3],\n",
        "    [ 4,  5,  6,  7],\n",
        "    [ 8,  9, 10, 11]\n",
        "    ]\n",
        "b = 5\n",
        "\n",
        "output:\n",
        "ans = [\n",
        "    [ 0,  5, 10, 15],\n",
        "    [20, 25, 30, 35],\n",
        "    [40, 45, 50, 55]]\n",
        "    ]\n",
        "```\n",
        "\n",
        "b) Given two matrices a and b, return new matrix as **element wise** with matrix multiplication of a and b:\n",
        "\n",
        "```\n",
        "input:\n",
        "a = [\n",
        "    [ 0,  1,  2,  3],\n",
        "    [ 4,  5,  6,  7],\n",
        "    [ 8,  9, 10, 11]\n",
        "    ]\n",
        "b = [\n",
        "    [13, 14, 15, 16],\n",
        "    [17, 18, 19, 20],\n",
        "    [21, 22, 23, 24]\n",
        "    ]\n",
        "\n",
        "output:\n",
        "ans = [\n",
        " [ 0,  14,  30,  48],\n",
        " [68,  90, 114, 140],\n",
        " [168, 198, 230, 264]\n",
        "]\n",
        "```\n",
        "\n",
        "c) Standard Matrix Multiplication:\n",
        "Given Two matrices a and b of same dimensions, return new matrix a x b_transponse\n",
        "(refer https://www.mathsisfun.com/algebra/matrix-multiplying.html)\n",
        "```\n",
        "input:\n",
        "a = [\n",
        "    [ 0,  1,  2,  3],\n",
        "    [ 4,  5,  6,  7],\n",
        "    [ 8,  9, 10, 11]\n",
        "    ]\n",
        "b = [\n",
        "    [13, 14, 15, 16],\n",
        "    [17, 18, 19, 20],\n",
        "    [21, 22, 23, 24]\n",
        "    ]\n",
        "\n",
        "output:\n",
        "ans = [\n",
        "    [ 92, 116, 140],\n",
        "    [324, 412, 500],\n",
        "    [556, 708, 860]\n",
        "    ]\n",
        "```\n"
      ],
      "metadata": {
        "id": "FM51AAV9tF3p"
      }
    },
    {
      "cell_type": "markdown",
      "source": [
        "### Q14 Padding an Image: Given an array of dim m x n, set all numbers at the edges of array to 0\n",
        "```\n",
        "input:\n",
        "[[1., 1., 1., 1., 1.],\n",
        "[1., 1., 1., 1., 1.],\n",
        "[1., 1., 1., 1., 1.],\n",
        "[1., 1., 1., 1., 1.],\n",
        "[1., 1., 1., 1., 1.]]\n",
        "\n",
        "output:\n",
        "[[0. 0. 0. 0. 0.]\n",
        " [0. 1. 1. 1. 0.]\n",
        " [0. 1. 1. 1. 0.]\n",
        " [0. 1. 1. 1. 0.]\n",
        " [0. 0. 0. 0. 0.]]\n",
        "```"
      ],
      "metadata": {
        "id": "28qeBqarH8ql"
      }
    },
    {
      "cell_type": "markdown",
      "source": [
        "### Q15. Flip Image: Given a 2 Dimension List, return new list with its values in the column reversed.\n",
        "\n",
        "```\n",
        "input:\n",
        "[[0, 1, 2],\n",
        " [3, 4, 5],\n",
        " [6, 7, 8]]\n",
        "\n",
        "output:\n",
        "\n",
        "[[2, 1, 0],\n",
        " [5, 4, 3],\n",
        " [8, 7, 6]]\n",
        "```"
      ],
      "metadata": {
        "id": "mSP4J2AuQllP"
      }
    },
    {
      "cell_type": "code",
      "source": [],
      "metadata": {
        "id": "jDhZceiBQEuL"
      },
      "execution_count": null,
      "outputs": []
    }
  ]
}